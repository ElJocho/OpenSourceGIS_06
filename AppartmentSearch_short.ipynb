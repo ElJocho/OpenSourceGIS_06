{
 "cells": [
  {
   "cell_type": "markdown",
   "metadata": {},
   "source": [
    "# Apartment search \n"
   ]
  },
  {
   "cell_type": "markdown",
   "metadata": {},
   "source": [
    "This notebook contains an example of how to use openrouteservice API's to create isochrones. "
   ]
  },
  {
   "cell_type": "code",
   "execution_count": 159,
   "metadata": {},
   "outputs": [],
   "source": [
    "import folium\n",
    "import json\n",
    "import os\n",
    "import matplotlib as mpl\n",
    "from openrouteservice import client\n",
    "import pandas as pd\n",
    "from matplotlib import pyplot as plt\n",
    "import datetime as dt\n",
    "import requests"
   ]
  },
  {
   "cell_type": "markdown",
   "metadata": {},
   "source": [
    "Paste your personal API key below."
   ]
  },
  {
   "cell_type": "code",
   "execution_count": 61,
   "metadata": {},
   "outputs": [],
   "source": [
    "api_key = '5b3ce3597851110001cf62483ae5cf98ae4743649600ff877943b339' #Provide your personal API key\n",
    "myClient = client.Client(key=api_key) "
   ]
  },
  {
   "cell_type": "markdown",
   "metadata": {},
   "source": [
    "Let's assume you are seraching for a new appartment in San Francisco. There are three potential appartments. We will create ischonres around each one."
   ]
  },
  {
   "cell_type": "markdown",
   "metadata": {},
   "source": [
    "## Create a list of potential apartments\n",
    "First, we store the locations of the three potential appartments in a dictionary."
   ]
  },
  {
   "cell_type": "code",
   "execution_count": 170,
   "metadata": {},
   "outputs": [],
   "source": [
    "# Set up the apartment dictionary with real coordinates\n",
    "apartments = {'first_apartment': {'location': [9.981727, 53.552018]},\n",
    "            'second_apartment': {'location': [9.921727, 53.552018]},\n",
    "            'third_apartment': {'location': [9.981727, 53.572018]}\n",
    "           }"
   ]
  },
  {
   "cell_type": "code",
   "execution_count": 171,
   "metadata": {},
   "outputs": [
    {
     "data": {
      "text/plain": [
       "[9.981727, 53.552018]"
      ]
     },
     "execution_count": 171,
     "metadata": {},
     "output_type": "execute_result"
    }
   ],
   "source": [
    "apartments['first_apartment']['location']"
   ]
  },
  {
   "cell_type": "markdown",
   "metadata": {},
   "source": [
    "## Create isochrones around appartments"
   ]
  },
  {
   "cell_type": "markdown",
   "metadata": {},
   "source": [
    "Then, we will request the isochrones around each apparment and visualize them in the map. You may change the settings of the isochrones. For details about the parameters see the [ORS documentation](https://openrouteservice.org/dev/#/api-docs/isochrones)."
   ]
  },
  {
   "cell_type": "code",
   "execution_count": 172,
   "metadata": {
    "scrolled": false
   },
   "outputs": [
    {
     "data": {
      "text/html": [
       "<div style=\"width:100%;\"><div style=\"position:relative;width:100%;height:0;padding-bottom:60%;\"><iframe src=\"data:text/html;charset=utf-8;base64,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\" style=\"position:absolute;width:100%;height:100%;left:0;top:0;border:none !important;\" allowfullscreen webkitallowfullscreen mozallowfullscreen></iframe></div></div>"
      ],
      "text/plain": [
       "<folium.folium.Map at 0x10844a240>"
      ]
     },
     "execution_count": 172,
     "metadata": {},
     "output_type": "execute_result"
    }
   ],
   "source": [
    "# Settings for isochrones\n",
    "# ORS routing profile\n",
    "profile = 'foot-walking'\n",
    "# Type of isochones: time or distance\n",
    "range_type = 'time'\n",
    "# Intervals of isochrones\n",
    "intervals = [500] # in seconds (if range_type=time) or meters (if range_type=distance)\n",
    "# If this variable is True, the isochorones are exported into a geojson file \n",
    "export_isochrones_to_file = True\n",
    "# Path to the folder where the files containgin the isochrones should be stored\n",
    "path_out = '/Users/chludwig/Data/temp/'\n",
    "\n",
    "\n",
    "# Store parameters of the isochrones request in a python dictionary \n",
    "params_iso = {'profile': profile,\n",
    "              'intervals': intervals, # 900/60 = 15 mins\n",
    "              'segments': intervals[0],\n",
    "              'range_type': range_type,\n",
    "              'attributes': ['area'] # Get area of each isochrone\n",
    "             }\n",
    "\n",
    "# Defines the style of the isochrones shown in the map\n",
    "style_function = lambda x: {'weight': 1}\n",
    "\n",
    "# Create map object\n",
    "mapSF = folium.Map(tiles='Stamen Toner', location=([53.552018, 9.981727]), zoom_start=12)\n",
    "\n",
    "# Iterate over all appartments and request isochrones for each one and add them to the map\n",
    "for name, apt in apartments.items():\n",
    "    # Add apartment coords to request parameters\n",
    "    params_iso['locations'] = apt['location'] \n",
    "    # Perform isochrone request\n",
    "    apt['iso'] = myClient.isochrones(**params_iso) \n",
    "    # Add resulting isochrones to the map\n",
    "    folium.features.GeoJson(apt['iso'], style_function=style_function, name='Isochrones of ' + name).add_to(mapSF) \n",
    "    # Add icon at the location of the appartment\n",
    "    folium.map.Marker(list(reversed(apt['location'])), # reverse coords due to weird folium lat/lon syntax\n",
    "                      icon=folium.Icon(color='lightgray',\n",
    "                                        icon_color='#cc0000',\n",
    "                                        icon='home',\n",
    "                                        prefix='fa',\n",
    "                                       ),\n",
    "                      popup=name,\n",
    "                 ).add_to(mapSF)\n",
    "    # Export to file \n",
    "    if export_isochrones_to_file:\n",
    "        with open(os.path.join(path_out, 'isochrones_' + name +'.geojson'), \"w\") as fp: \n",
    "            json.dump(apt['iso'], fp)\n",
    "\n",
    "# Add layer control so you can toggle layers on and off\n",
    "mapSF.add_child(folium.LayerControl())\n",
    "# display map\n",
    "mapSF"
   ]
  },
  {
   "cell_type": "markdown",
   "metadata": {},
   "source": [
    "## Number of restaurants nearby apartments"
   ]
  },
  {
   "cell_type": "code",
   "execution_count": 176,
   "metadata": {},
   "outputs": [],
   "source": [
    "#Define temporal filter, make sure to use ISO-8601 conform timestrings\n",
    "start_date = '2013-01-01'\n",
    "end_date = '2018-04-01'\n",
    "time_interval = 'P1M' \n",
    "\n",
    "apt = apartments['third_apartment']\n",
    "    \n",
    "#Specified data to be sent to the ohsome API\n",
    "data = {'bpolys': json.dumps(apt['iso']),\n",
    "        'keys': 'amenity',\n",
    "        'values': 'restaurant',\n",
    "        'time': f'{start_date}/{end_date}/{time_interval}',\n",
    "        #'time': f'{end_date}',\n",
    "        'showMetadata': 'true'}\n",
    "\n",
    "#Send  post request to ohsome api and save response\n",
    "count_ohsome_endpoint = 'https://api.ohsome.org/v0.9-ignite-germany/elements/count/'\n",
    "count = requests.post(count_ohsome_endpoint, data=data).json()"
   ]
  },
  {
   "cell_type": "code",
   "execution_count": 177,
   "metadata": {
    "scrolled": true
   },
   "outputs": [
    {
     "data": {
      "text/html": [
       "<div>\n",
       "<style scoped>\n",
       "    .dataframe tbody tr th:only-of-type {\n",
       "        vertical-align: middle;\n",
       "    }\n",
       "\n",
       "    .dataframe tbody tr th {\n",
       "        vertical-align: top;\n",
       "    }\n",
       "\n",
       "    .dataframe thead th {\n",
       "        text-align: right;\n",
       "    }\n",
       "</style>\n",
       "<table border=\"1\" class=\"dataframe\">\n",
       "  <thead>\n",
       "    <tr style=\"text-align: right;\">\n",
       "      <th></th>\n",
       "      <th>timestamp</th>\n",
       "      <th>value</th>\n",
       "    </tr>\n",
       "  </thead>\n",
       "  <tbody>\n",
       "    <tr>\n",
       "      <th>0</th>\n",
       "      <td>2013-01-01</td>\n",
       "      <td>35.0</td>\n",
       "    </tr>\n",
       "    <tr>\n",
       "      <th>1</th>\n",
       "      <td>2013-02-01</td>\n",
       "      <td>35.0</td>\n",
       "    </tr>\n",
       "    <tr>\n",
       "      <th>2</th>\n",
       "      <td>2013-03-01</td>\n",
       "      <td>35.0</td>\n",
       "    </tr>\n",
       "    <tr>\n",
       "      <th>3</th>\n",
       "      <td>2013-04-01</td>\n",
       "      <td>35.0</td>\n",
       "    </tr>\n",
       "    <tr>\n",
       "      <th>4</th>\n",
       "      <td>2013-05-01</td>\n",
       "      <td>35.0</td>\n",
       "    </tr>\n",
       "  </tbody>\n",
       "</table>\n",
       "</div>"
      ],
      "text/plain": [
       "   timestamp  value\n",
       "0 2013-01-01   35.0\n",
       "1 2013-02-01   35.0\n",
       "2 2013-03-01   35.0\n",
       "3 2013-04-01   35.0\n",
       "4 2013-05-01   35.0"
      ]
     },
     "execution_count": 177,
     "metadata": {},
     "output_type": "execute_result"
    }
   ],
   "source": [
    "#Visualize the count of restaurants within the isochrone\n",
    "df_count = pd.DataFrame(count['result'])\n",
    "df_count.timestamp = pd.to_datetime(df_count.timestamp, format='%Y-%m-%dT%H:%M:%SZ')\n",
    "df_count.set_index(\"timestamp\")\n",
    "df_count.head()"
   ]
  },
  {
   "cell_type": "code",
   "execution_count": 178,
   "metadata": {},
   "outputs": [
    {
     "data": {
      "text/plain": [
       "Text(0.5, 1.0, 'Number of restaurants')"
      ]
     },
     "execution_count": 178,
     "metadata": {},
     "output_type": "execute_result"
    },
    {
     "data": {
      "image/png": "[encoded data removed]",
      "text/plain": [
       "<Figure size 432x288 with 1 Axes>"
      ]
     },
     "metadata": {
      "needs_background": "light"
     },
     "output_type": "display_data"
    }
   ],
   "source": [
    "%matplotlib inline \n",
    "plt.plot(df_count['timestamp'], df_count['value'])\n",
    "plt.title(\"Number of restaurants\")"
   ]
  },
  {
   "cell_type": "code",
   "execution_count": null,
   "metadata": {},
   "outputs": [],
   "source": []
  },
  {
   "cell_type": "code",
   "execution_count": null,
   "metadata": {},
   "outputs": [],
   "source": []
  }
 ],
 "metadata": {
  "kernelspec": {
   "display_name": "Python 3",
   "language": "python",
   "name": "python3"
  },
  "language_info": {
   "codemirror_mode": {
    "name": "ipython",
    "version": 3
   },
   "file_extension": ".py",
   "mimetype": "text/x-python",
   "name": "python",
   "nbconvert_exporter": "python",
   "pygments_lexer": "ipython3",
   "version": "3.6.7"
  }
 },
 "nbformat": 4,
 "nbformat_minor": 2
}
