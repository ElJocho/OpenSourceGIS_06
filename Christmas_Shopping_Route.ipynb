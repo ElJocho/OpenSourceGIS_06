{
 "cells": [
  {
   "cell_type": "markdown",
   "metadata": {},
   "source": [
    "# Optimize your Christmas shopping route using OpenRouteService"
   ]
  },
  {
   "cell_type": "markdown",
   "metadata": {},
   "source": [
    "It's Christmas time again and everyone is busy buying presents and visiting christmas markets. In order to get all those tasks done in a most efficient way, you want to get the optimal route connecting all your stops. The Open Route Service will help us finding that route. \n",
    "\n",
    "First, we need to import some python modules."
   ]
  },
  {
   "cell_type": "code",
   "execution_count": 1,
   "metadata": {},
   "outputs": [],
   "source": [
    "import folium\n",
    "from shapely import wkt, geometry\n",
    "import json\n",
    "import os.path"
   ]
  },
  {
   "cell_type": "markdown",
   "metadata": {},
   "source": [
    "## 1. Create a list of all the stops on your Christmas shopping route\n",
    "We will use the Nominatim geocoder to find the coordinates of POIs that are mapped in OSM. Use your email address as \"user_agent\"."
   ]
  },
  {
   "cell_type": "code",
   "execution_count": 2,
   "metadata": {},
   "outputs": [],
   "source": [
    "from geopy.geocoders import Nominatim\n",
    "geolocator = Nominatim(user_agent=\"Christina.ludwig@uni-heidelberg.de\")"
   ]
  },
  {
   "cell_type": "code",
   "execution_count": 3,
   "metadata": {},
   "outputs": [],
   "source": [
    "# Not important: Function that switches the x and y coordinates, so that it is displayed correctly in the map\n",
    "def switchCoords(coords):\n",
    "    return (coords[1], coords[0])"
   ]
  },
  {
   "cell_type": "code",
   "execution_count": 4,
   "metadata": {},
   "outputs": [],
   "source": [
    "stops = [{'coordinates' : switchCoords(geolocator.geocode(\"Wochenmarkt, Heidelberg, Germany\")[1]), \n",
    "        'name': 'Christmas Market'},\n",
    "        {'coordinates' : switchCoords(geolocator.geocode(\"Universitäts-Apotheke, Heidelberg, Germany\")[1]), \n",
    "        'name': 'Pharmacy'},\n",
    "        {'coordinates' : switchCoords(geolocator.geocode(\"Bismarckplatz, Heidelberg, Germany\")[1]), \n",
    "        'name': 'Bismarkplatz'},\n",
    "        {'coordinates' : switchCoords(geolocator.geocode(\"Zeughaus, Heidelberg, Germany\")[1]), \n",
    "        'name': 'Marstall'},\n",
    "        {'coordinates' : switchCoords(geolocator.geocode(\"Heidelberger Zuckerladen, Heidelberg, Germany\")[1]), \n",
    "        'name': 'Zuckerladen'}\n",
    "        ]"
   ]
  },
  {
   "cell_type": "code",
   "execution_count": 5,
   "metadata": {
    "scrolled": true
   },
   "outputs": [
    {
     "data": {
      "text/plain": [
       "[{'coordinates': (8.71047601790124, 49.41212685), 'name': 'Christmas Market'},\n",
       " {'coordinates': (8.7045353, 49.4114141), 'name': 'Pharmacy'},\n",
       " {'coordinates': (8.69299861340895, 49.41001065), 'name': 'Bismarkplatz'},\n",
       " {'coordinates': (8.70515231355789, 49.4129347), 'name': 'Marstall'},\n",
       " {'coordinates': (8.7031265, 49.4093992), 'name': 'Zuckerladen'}]"
      ]
     },
     "execution_count": 5,
     "metadata": {},
     "output_type": "execute_result"
    }
   ],
   "source": [
    "stops"
   ]
  },
  {
   "cell_type": "markdown",
   "metadata": {},
   "source": [
    "## 2. Create a map that shows all stops"
   ]
  },
  {
   "cell_type": "markdown",
   "metadata": {},
   "source": [
    "Now we are going to visualize the stops of our Christmas route. The center the map should be on the Wochenmarkt. Therfore, we extract the coordinates of the first element in the list `stops`. Aftwards, we create a map object and display it.\n"
   ]
  },
  {
   "cell_type": "code",
   "execution_count": 6,
   "metadata": {
    "scrolled": false
   },
   "outputs": [
    {
     "data": {
      "text/html": [
       "<div style=\"width:100%;\"><div style=\"position:relative;width:100%;height:0;padding-bottom:60%;\"><iframe src=\"data:text/html;charset=utf-8;base64,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\" style=\"position:absolute;width:100%;height:100%;left:0;top:0;border:none !important;\" allowfullscreen webkitallowfullscreen mozallowfullscreen></iframe></div></div>"
      ],
      "text/plain": [
       "<folium.folium.Map at 0x106059e80>"
      ]
     },
     "execution_count": 6,
     "metadata": {},
     "output_type": "execute_result"
    }
   ],
   "source": [
    "centerOfMap = geometry.Point(stops[0]['coordinates'])\n",
    "# Create a map object\n",
    "mapHD = folium.Map(tiles='Stamen Toner',location=(centerOfMap.y, centerOfMap.x), zoom_start=14)\n",
    "# Display updated map\n",
    "mapHD"
   ]
  },
  {
   "cell_type": "markdown",
   "metadata": {},
   "source": [
    "Now, let's add all stops as markers to the map."
   ]
  },
  {
   "cell_type": "code",
   "execution_count": 7,
   "metadata": {
    "scrolled": false
   },
   "outputs": [
    {
     "data": {
      "text/html": [
       "<div style=\"width:100%;\"><div style=\"position:relative;width:100%;height:0;padding-bottom:60%;\"><iframe src=\"data:text/html;charset=utf-8;base64,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\" style=\"position:absolute;width:100%;height:100%;left:0;top:0;border:none !important;\" allowfullscreen webkitallowfullscreen mozallowfullscreen></iframe></div></div>"
      ],
      "text/plain": [
       "<folium.folium.Map at 0x106059e80>"
      ]
     },
     "execution_count": 7,
     "metadata": {},
     "output_type": "execute_result"
    }
   ],
   "source": [
    "stopMarkers = []\n",
    "for stop in stops:\n",
    "    lon, lat = stop['coordinates']\n",
    "    name = stop['name']\n",
    "    popup = \"<strong>{0}</strong><br>Lat: {1:.3f}<br>Long: {2:.3f}\".format(name, lat, lon)\n",
    "    icon = folium.map.Icon(color='lightgray',\n",
    "                        icon_color='#b5231a',\n",
    "                        icon='star', # fetches font-awesome.io symbols\n",
    "                        prefix='fa')\n",
    "    folium.map.Marker([lat, lon], icon=icon, popup=popup).add_to(mapHD)\n",
    "    stopMarkers.append(name)\n",
    "# Display updated map\n",
    "mapHD"
   ]
  },
  {
   "cell_type": "markdown",
   "metadata": {},
   "source": [
    "## 3. Find the optimal route connecting all stops\n",
    "### 3.1 Find optimal order of stops\n",
    "We will use different ORS tools to determine the optimal route between the stops. Therefore, we need to import all necessary ORS modules."
   ]
  },
  {
   "cell_type": "code",
   "execution_count": 8,
   "metadata": {},
   "outputs": [],
   "source": [
    "from openrouteservice import client, distance_matrix, directions\n",
    "from ortools.constraint_solver import pywrapcp\n",
    "from ortools.constraint_solver import routing_enums_pb2"
   ]
  },
  {
   "cell_type": "markdown",
   "metadata": {},
   "source": [
    "In order to use the OpenRouteService API you have to create an account and request a free API key [here](https://openrouteservice.org/dev/#/login). Paste your API key below into the variable \"api_key\". Using this key, we create a client object (`myClient`) hat will execute all your requests to the ORS."
   ]
  },
  {
   "cell_type": "code",
   "execution_count": 9,
   "metadata": {},
   "outputs": [],
   "source": [
    "api_key = '5b3ce3597851110001cf62483ae5cf98ae4743649600ff877943b339' #Provide your personal API key\n",
    "myClient = client.Client(key=api_key)"
   ]
  },
  {
   "cell_type": "markdown",
   "metadata": {},
   "source": [
    "In order to find the optimal route, we first calculate the distances between all route stops. Set the routing profile (e.g. foot-walking, driving-car) and metric."
   ]
  },
  {
   "cell_type": "code",
   "execution_count": 10,
   "metadata": {},
   "outputs": [],
   "source": [
    "# ORS routing profile\n",
    "profile = 'foot-walking'\n",
    "# Metric used to optimize route (duration or distance)\n",
    "metric = ['duration']"
   ]
  },
  {
   "cell_type": "code",
   "execution_count": 11,
   "metadata": {},
   "outputs": [],
   "source": [
    "# Extract the coordinates from the list of stops\n",
    "stop_coords = [feat['coordinates'] for feat in stops]\n",
    "# Request to the ORS \n",
    "request = {'locations': stop_coords,\n",
    "           'profile': profile,\n",
    "           'metrics': metric}\n",
    "# Execute the request\n",
    "stops_matrix = myClient.distance_matrix(**request)"
   ]
  },
  {
   "cell_type": "markdown",
   "metadata": {},
   "source": [
    "The result of the request is a matrix that contains the distances between all stops. For better readability we will visualize it as a dataframe using the pandas module."
   ]
  },
  {
   "cell_type": "code",
   "execution_count": 12,
   "metadata": {},
   "outputs": [
    {
     "data": {
      "text/html": [
       "<div>\n",
       "<style scoped>\n",
       "    .dataframe tbody tr th:only-of-type {\n",
       "        vertical-align: middle;\n",
       "    }\n",
       "\n",
       "    .dataframe tbody tr th {\n",
       "        vertical-align: top;\n",
       "    }\n",
       "\n",
       "    .dataframe thead th {\n",
       "        text-align: right;\n",
       "    }\n",
       "</style>\n",
       "<table border=\"1\" class=\"dataframe\">\n",
       "  <thead>\n",
       "    <tr style=\"text-align: right;\">\n",
       "      <th></th>\n",
       "      <th>Christmas Market</th>\n",
       "      <th>Pharmacy</th>\n",
       "      <th>Bismarkplatz</th>\n",
       "      <th>Marstall</th>\n",
       "      <th>Zuckerladen</th>\n",
       "    </tr>\n",
       "  </thead>\n",
       "  <tbody>\n",
       "    <tr>\n",
       "      <th>Christmas Market</th>\n",
       "      <td>0.00</td>\n",
       "      <td>345.77</td>\n",
       "      <td>1014.06</td>\n",
       "      <td>406.19</td>\n",
       "      <td>570.61</td>\n",
       "    </tr>\n",
       "    <tr>\n",
       "      <th>Pharmacy</th>\n",
       "      <td>345.77</td>\n",
       "      <td>0.00</td>\n",
       "      <td>668.30</td>\n",
       "      <td>165.83</td>\n",
       "      <td>252.74</td>\n",
       "    </tr>\n",
       "    <tr>\n",
       "      <th>Bismarkplatz</th>\n",
       "      <td>1014.06</td>\n",
       "      <td>668.30</td>\n",
       "      <td>0.00</td>\n",
       "      <td>800.05</td>\n",
       "      <td>629.67</td>\n",
       "    </tr>\n",
       "    <tr>\n",
       "      <th>Marstall</th>\n",
       "      <td>406.19</td>\n",
       "      <td>165.83</td>\n",
       "      <td>800.05</td>\n",
       "      <td>0.00</td>\n",
       "      <td>411.07</td>\n",
       "    </tr>\n",
       "    <tr>\n",
       "      <th>Zuckerladen</th>\n",
       "      <td>570.61</td>\n",
       "      <td>252.74</td>\n",
       "      <td>629.67</td>\n",
       "      <td>411.07</td>\n",
       "      <td>0.00</td>\n",
       "    </tr>\n",
       "  </tbody>\n",
       "</table>\n",
       "</div>"
      ],
      "text/plain": [
       "                  Christmas Market  Pharmacy  Bismarkplatz  Marstall  \\\n",
       "Christmas Market              0.00    345.77       1014.06    406.19   \n",
       "Pharmacy                    345.77      0.00        668.30    165.83   \n",
       "Bismarkplatz               1014.06    668.30          0.00    800.05   \n",
       "Marstall                    406.19    165.83        800.05      0.00   \n",
       "Zuckerladen                 570.61    252.74        629.67    411.07   \n",
       "\n",
       "                  Zuckerladen  \n",
       "Christmas Market       570.61  \n",
       "Pharmacy               252.74  \n",
       "Bismarkplatz           629.67  \n",
       "Marstall               411.07  \n",
       "Zuckerladen              0.00  "
      ]
     },
     "execution_count": 12,
     "metadata": {},
     "output_type": "execute_result"
    }
   ],
   "source": [
    "import pandas as pd\n",
    "# Stored data from stops_matrix in dataframe object\n",
    "stop_names = [st['name'] for st in stops]\n",
    "stops_dataframe = pd.DataFrame(stops_matrix['durations'], columns=stop_names, index=stop_names)\n",
    "# Print the data frame\n",
    "stops_dataframe"
   ]
  },
  {
   "cell_type": "markdown",
   "metadata": {},
   "source": [
    "The code below identifies the optimal order of stops. Don't look at it in too much detail. It's not necessary to understand all of it \n"
   ]
  },
  {
   "cell_type": "code",
   "execution_count": 13,
   "metadata": {
    "scrolled": true
   },
   "outputs": [
    {
     "name": "stdout",
     "output_type": "stream",
     "text": [
      "Total duration: 40.53333333333333 minutes\n",
      "\n",
      "Route:\n",
      "Christmas Market -> Marstall -> Bismarkplatz -> Zuckerladen -> Pharmacy -> Christmas Market\n"
     ]
    }
   ],
   "source": [
    "def getDistance(from_id, to_id):\n",
    "    return int(stops_matrix['durations'][from_id][to_id])\n",
    "\n",
    "tsp_size = len(stop_names)\n",
    "num_routes = 1\n",
    "start = 0 # arbitrary start location\n",
    "\n",
    "optimal_coords = []\n",
    "\n",
    "if tsp_size > 0:\n",
    "    routing = pywrapcp.RoutingModel(tsp_size, num_routes, start)\n",
    "    search_parameters = pywrapcp.RoutingModel.DefaultSearchParameters()\n",
    "    # Create the distance callback, which takes two arguments (the from and to node indices)\n",
    "    # and returns the distance between these nodes.\n",
    "    routing.SetArcCostEvaluatorOfAllVehicles(getDistance)\n",
    "    # Solve, returns a solution if any.\n",
    "    assignment = routing.SolveWithParameters(search_parameters)\n",
    "    if assignment:\n",
    "        # Total cost of the 'optimal' solution.\n",
    "        print(\"Total duration: \" + str(round(assignment.ObjectiveValue(), 3) / 60) + \" minutes\\n\")\n",
    "        index = routing.Start(start) # Index of the variable for the starting node.\n",
    "        route = ''\n",
    "        # while not routing.IsEnd(index):\n",
    "        for node in range(routing.nodes()):\n",
    "            optimal_coords.append(stop_coords[routing.IndexToNode(index)])\n",
    "            route += str(stop_names[routing.IndexToNode(index)]) + ' -> '\n",
    "            index = assignment.Value(routing.NextVar(index))\n",
    "        route += str(stop_names[routing.IndexToNode(index)])\n",
    "        optimal_coords.append(stop_coords[routing.IndexToNode(index)])\n",
    "        print(\"Route:\\n\" + route)"
   ]
  },
  {
   "cell_type": "markdown",
   "metadata": {},
   "source": [
    "### 3.2 Calculate route between stops\n",
    "Now that we have the optimal order of stops, we only need to find a route connecting them. To see how much time we saved, we will compare it to the route which a random order of stops. "
   ]
  },
  {
   "cell_type": "markdown",
   "metadata": {},
   "source": [
    "Calculate the optimal Route "
   ]
  },
  {
   "cell_type": "code",
   "execution_count": 14,
   "metadata": {},
   "outputs": [],
   "source": [
    "request = {'coordinates': stop_coords,\n",
    "           'profile': profile,\n",
    "           'geometry': 'true',\n",
    "           'format_out': 'geojson',\n",
    "          }\n",
    "random_route = myClient.directions(**request)"
   ]
  },
  {
   "cell_type": "markdown",
   "metadata": {},
   "source": [
    "Calculate the optimal route. "
   ]
  },
  {
   "cell_type": "code",
   "execution_count": 15,
   "metadata": {},
   "outputs": [],
   "source": [
    "# Replace the coordinates in the request by the coordinates with the optimal order of stops\n",
    "request['coordinates'] = optimal_coords\n",
    "optimal_route = myClient.directions(**request)"
   ]
  },
  {
   "cell_type": "markdown",
   "metadata": {},
   "source": [
    "Now, let's visualize everything in a map."
   ]
  },
  {
   "cell_type": "code",
   "execution_count": 16,
   "metadata": {
    "scrolled": false
   },
   "outputs": [
    {
     "data": {
      "text/html": [
       "<div style=\"width:100%;\"><div style=\"position:relative;width:100%;height:0;padding-bottom:60%;\"><iframe src=\"data:text/html;charset=utf-8;base64,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\" style=\"position:absolute;width:100%;height:100%;left:0;top:0;border:none !important;\" allowfullscreen webkitallowfullscreen mozallowfullscreen></iframe></div></div>"
      ],
      "text/plain": [
       "<folium.folium.Map at 0x1181f5048>"
      ]
     },
     "execution_count": 16,
     "metadata": {},
     "output_type": "execute_result"
    }
   ],
   "source": [
    "# Create map object\n",
    "mapHD = folium.Map(tiles='Stamen Toner',location=(centerOfMap.y, centerOfMap.x), zoom_start=14)\n",
    "\n",
    "# Just a function to style the routes on the map\n",
    "def style_function(color):\n",
    "    return lambda feature: dict(color=color,\n",
    "                              weight=3,\n",
    "                              opacity=1)\n",
    "\n",
    "# Add random route to map\n",
    "folium.features.GeoJson(data=random_route,\n",
    "                        name='Random Route',\n",
    "                        style_function=style_function('#84e184'),\n",
    "                       overlay=True).add_to(mapHD)\n",
    "\n",
    "# Add optimal route to map\n",
    "folium.features.GeoJson(data=optimal_route,\n",
    "                        name='Optimal Route',\n",
    "                        style_function=style_function('#6666ff'),\n",
    "                       overlay=True).add_to(mapHD)\n",
    "\n",
    "# Add markers for each stop to map\n",
    "stopMarkers = []\n",
    "for stop in stops:\n",
    "    lon, lat = stop['coordinates']\n",
    "    name = stop['name']\n",
    "    popup = \"<strong>{0}</strong><br>Lat: {1:.3f}<br>Long: {2:.3f}\".format(name, lat, lon)\n",
    "    icon = folium.map.Icon(color='lightgray',\n",
    "                        icon_color='#b5231a',\n",
    "                        icon='star', # fetches font-awesome.io symbols\n",
    "                        prefix='fa')\n",
    "    folium.map.Marker([lat, lon], icon=icon, popup=popup).add_to(mapHD)\n",
    "    stopMarkers.append(name)\n",
    "\n",
    "# Add the layer control so you can toggle the routes on and off\n",
    "mapHD.add_child(folium.LayerControl())\n",
    "# Display the map\n",
    "mapHD"
   ]
  },
  {
   "cell_type": "markdown",
   "metadata": {},
   "source": [
    "Let's calculate how much time we save, if we optimize our Christmas shopping route."
   ]
  },
  {
   "cell_type": "code",
   "execution_count": 17,
   "metadata": {
    "scrolled": true
   },
   "outputs": [
    {
     "name": "stdout",
     "output_type": "stream",
     "text": [
      "Duration optimal route: 40.573 mins\n",
      "Duration random route: 37.087 mins\n"
     ]
    }
   ],
   "source": [
    "optimal_duration = optimal_route['features'][0]['properties']['summary'][0]['duration'] / 60\n",
    "random_duration = random_route['features'][0]['properties']['summary'][0]['duration'] / 60 \n",
    "print(\"Duration optimal route: {0:.3f} mins\\nDuration random route: {1:.3f} mins\".format(optimal_duration,\n",
    "                                                                                         random_duration))"
   ]
  },
  {
   "cell_type": "markdown",
   "metadata": {},
   "source": [
    "## 4. Export the optimal route to a geojson file\n",
    "The last step is to export the route to a geojson file."
   ]
  },
  {
   "cell_type": "code",
   "execution_count": 18,
   "metadata": {},
   "outputs": [],
   "source": [
    "import json\n",
    "with open(\"/Users/chludwig/Data/temp/optimalRoute.geojson\", \"w\") as fp: \n",
    "    json.dump(optimal_route, fp)"
   ]
  },
  {
   "cell_type": "markdown",
   "metadata": {},
   "source": [
    "__Exercise 0:__ Create an OpenRouteService account and request an API key."
   ]
  },
  {
   "cell_type": "markdown",
   "metadata": {},
   "source": [
    "__Exercise 1:__ Go through the notebook and execute all code blocks. Try to understand what is happing in each one of them. Just focus on identifying the main processing steps without looking too much into the details of the code. Draw a workflow diagram that contains all input parameters, output data sets and the main processing steps inbetween."
   ]
  },
  {
   "cell_type": "markdown",
   "metadata": {},
   "source": [
    "__Exercise 2__: Adapt the list of stops to your personal Christmas shopping route. These are the tasks that you need to compelete:\n",
    "* buy presents at three different stores\n",
    "* have a Glühwein at a Christmas market\n",
    "* get some food\n",
    "* go to a pharmacy because you feel a cold coming up\n",
    "\n",
    "Execute the whole script and analyse the results."
   ]
  },
  {
   "cell_type": "markdown",
   "metadata": {},
   "source": [
    "__Exercise 3:__ Try different routing profiles and metrics and compare your results. For a list of available profiles see [Open Route Service Matrix Tool](https://openrouteservice.org/documentation/#/reference/matrix/matrix-service-(get))"
   ]
  }
 ],
 "metadata": {
  "kernelspec": {
   "display_name": "Python 3",
   "language": "python",
   "name": "python3"
  },
  "language_info": {
   "codemirror_mode": {
    "name": "ipython",
    "version": 3
   },
   "file_extension": ".py",
   "mimetype": "text/x-python",
   "name": "python",
   "nbconvert_exporter": "python",
   "pygments_lexer": "ipython3",
   "version": "3.6.7"
  }
 },
 "nbformat": 4,
 "nbformat_minor": 2
}
