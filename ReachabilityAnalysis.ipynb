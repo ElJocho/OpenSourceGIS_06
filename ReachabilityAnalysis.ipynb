{
 "cells": [
  {
   "cell_type": "markdown",
   "metadata": {},
   "source": [
    "# Appartment search \n"
   ]
  },
  {
   "cell_type": "markdown",
   "metadata": {},
   "source": [
    "In this notebook we'll provide an example for using different openrouteservice API's to help you look for an apartment."
   ]
  },
  {
   "cell_type": "code",
   "execution_count": 1,
   "metadata": {},
   "outputs": [
    {
     "ename": "SyntaxError",
     "evalue": "invalid syntax (<ipython-input-1-452fd2304efa>, line 1)",
     "output_type": "error",
     "traceback": [
      "\u001b[0;36m  File \u001b[0;32m\"<ipython-input-1-452fd2304efa>\"\u001b[0;36m, line \u001b[0;32m1\u001b[0m\n\u001b[0;31m    mkdir ors-apartment\u001b[0m\n\u001b[0m            ^\u001b[0m\n\u001b[0;31mSyntaxError\u001b[0m\u001b[0;31m:\u001b[0m invalid syntax\n"
     ]
    }
   ],
   "source": [
    "mkdir ors-apartment\n",
    "conda create -n ors-apartment python=3.6 shapely\n",
    "cd ors-apartment\n",
    "pip install openrouteservice ortools folium"
   ]
  },
  {
   "cell_type": "code",
   "execution_count": 1,
   "metadata": {},
   "outputs": [],
   "source": [
    "import folium\n",
    "import json\n",
    "import os\n",
    "import matplotlib as mpl\n",
    "from openrouteservice import client"
   ]
  },
  {
   "cell_type": "markdown",
   "metadata": {},
   "source": [
    "We have just moved to San Francisco with our kids and are looking for the perfect location to get a new home. Our geo intuition tells us we have to look at the data to come to this important decision. So we decide to geek it up a bit."
   ]
  },
  {
   "cell_type": "markdown",
   "metadata": {},
   "source": [
    "For this analysis, we will again use the Open Router Serive API. Therefore, we need to import the necessary modules and create a client with our personal API key."
   ]
  },
  {
   "cell_type": "code",
   "execution_count": 2,
   "metadata": {},
   "outputs": [],
   "source": [
    "api_key = '5b3ce3597851110001cf62483ae5cf98ae4743649600ff877943b339' #Provide your personal API key\n",
    "clnt = client.Client(key=api_key) "
   ]
  },
  {
   "cell_type": "markdown",
   "metadata": {},
   "source": [
    "# Apartment isochrones"
   ]
  },
  {
   "cell_type": "markdown",
   "metadata": {},
   "source": [
    "There are three different suggested locations for our new home. Let's visualize them and the 15 minute walking radius on a map:"
   ]
  },
  {
   "cell_type": "markdown",
   "metadata": {},
   "source": [
    "First, we store the locations of the three potential appartments in a dictionary."
   ]
  },
  {
   "cell_type": "code",
   "execution_count": 3,
   "metadata": {},
   "outputs": [],
   "source": [
    "# Set up the apartment dictionary with real coordinates\n",
    "appartments = {'first_appartment': {'location': [-122.430954, 37.792965]},\n",
    "            'second_appartment': {'location': [-122.501636, 37.748653]},\n",
    "            'third_appartment': {'location': [-122.446629, 37.736928]}\n",
    "           }"
   ]
  },
  {
   "cell_type": "markdown",
   "metadata": {},
   "source": [
    "Then, we will request the isochrones around each apparment and visualize them in the map. "
   ]
  },
  {
   "cell_type": "code",
   "execution_count": 7,
   "metadata": {
    "scrolled": false
   },
   "outputs": [
    {
     "data": {
      "text/html": [
       "<div style=\"width:100%;\"><div style=\"position:relative;width:100%;height:0;padding-bottom:60%;\"><iframe src=\"data:text/html;charset=utf-8;base64,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\" style=\"position:absolute;width:100%;height:100%;left:0;top:0;border:none !important;\" allowfullscreen webkitallowfullscreen mozallowfullscreen></iframe></div></div>"
      ],
      "text/plain": [
       "<folium.folium.Map at 0x11a56f7b8>"
      ]
     },
     "execution_count": 7,
     "metadata": {},
     "output_type": "execute_result"
    }
   ],
   "source": [
    "# Settings for isochrones\n",
    "profile = 'foot-walking'\n",
    "intervals = [1000] # in seconds (if range_type=time) or meters (if range_type=distance)\n",
    "range_type = 'time'\n",
    "export_isochrones = True\n",
    "path_out = '/Users/chludwig/Data/temp/'\n",
    "\n",
    "#Put together the parameters of the ORS request of isochrones \n",
    "params_iso = {'profile': profile,\n",
    "              'intervals': intervals, # 900/60 = 15 mins\n",
    "              'segments': intervals[0],\n",
    "              'range_type': range_type,\n",
    "              'attributes': ['area'] # Get area of each isochrone\n",
    "             }\n",
    "\n",
    "style_function = lambda x: {'weight': 1}\n",
    "\n",
    "# Set up folium map\n",
    "mapSF = folium.Map(tiles='Stamen Toner', location=([37.738684, -122.450523]), zoom_start=12)\n",
    "# Display map\n",
    "mapSF\n",
    "\n",
    "# Iterate over all appartments and request isochrones for each one and add them to the map\n",
    "for name, apt in appartments.items():\n",
    "    # Add apartment coords to request parameters\n",
    "    params_iso['locations'] = apt['location'] \n",
    "    # Perform isochrone request\n",
    "    apt['iso'] = clnt.isochrones(**params_iso) \n",
    "    # Add resulting isochrones to the map\n",
    "    folium.features.GeoJson(apt['iso'], style_function=style_function, name='Isochrones of ' + name).add_to(mapSF) \n",
    "    # Add icon at the location of the appartment\n",
    "    folium.map.Marker(list(reversed(apt['location'])), # reverse coords due to weird folium lat/lon syntax\n",
    "                      icon=folium.Icon(color='lightgray',\n",
    "                                        icon_color='#cc0000',\n",
    "                                        icon='home',\n",
    "                                        prefix='fa',\n",
    "                                       ),\n",
    "                      popup=name,\n",
    "                 ).add_to(mapSF)\n",
    "    # Export to file \n",
    "    if export_isochrones:\n",
    "        with open(os.path.join(path_out, 'isochrones_' + name +'.geojson'), \"w\") as fp: \n",
    "            json.dump(apt['iso'], fp)\n",
    "\n",
    "mapSF.add_child(folium.LayerControl())\n",
    "mapSF"
   ]
  },
  {
   "cell_type": "markdown",
   "metadata": {},
   "source": [
    "# Count POIs within isochrones around the appartments\n"
   ]
  },
  {
   "cell_type": "markdown",
   "metadata": {},
   "source": [
    "For the ever-styled foodie parents we are, we need to have the 3 basic things covered: kindergarten, supermarket and hair dresser. Let's see what options we got around our apartments:"
   ]
  },
  {
   "cell_type": "code",
   "execution_count": 8,
   "metadata": {},
   "outputs": [
    {
     "name": "stdout",
     "output_type": "stream",
     "text": [
      "Number of POIs around first_appartment\n",
      "\tkindergarten: 1\n",
      "\tsupermarket: 12\n",
      "\thairdresser: 12\n",
      "Number of POIs around second_appartment\n",
      "\tkindergarten: 3\n",
      "\tsupermarket: 1\n",
      "\thairdresser: 5\n",
      "Number of POIs around third_appartment\n",
      "\tkindergarten: 1\n",
      "\tsupermarket: 3\n",
      "\thairdresser: 2\n"
     ]
    }
   ],
   "source": [
    "# Common request parameters\n",
    "params_poi = {'request': 'pois',\n",
    "              'sortby': 'distance'}\n",
    "\n",
    "# POI categories according to \n",
    "# https://github.com/GIScience/openrouteservice-docs#places-response\n",
    "categories_poi = {'kindergarten': [153],\n",
    "                  'supermarket': [518],\n",
    "                  'hairdresser': [395]}\n",
    "\n",
    "# Iterate over appartments and count the number of POIs within the FIRST isochrone\n",
    "for name, apt in appartments.items():\n",
    "    apt['categories'] = dict() # Store in pois dict for easier retrieval\n",
    "    params_poi['geojson'] = apt['iso']['features'][0]['geometry']\n",
    "    print('Number of POIs around {}'.format(name))\n",
    "    \n",
    "    # Iterate over POI categories\n",
    "    for typ, category in categories_poi.items():\n",
    "        params_poi['filter_category_ids'] = category\n",
    "        apt['categories'][typ] = dict()\n",
    "        apt['categories'][typ]['geojson']= clnt.places(**params_poi)['features'] # Actual POI request\n",
    "        print(\"\\t{}: {}\".format(typ, # Print amount POIs\n",
    "                                len(apt['categories'][typ]['geojson'])))"
   ]
  },
  {
   "cell_type": "markdown",
   "metadata": {},
   "source": [
    "So, all apartments meet all requirements. Seems like we have to drill down further."
   ]
  },
  {
   "cell_type": "markdown",
   "metadata": {},
   "source": [
    "# Calculate routes from apartments to nearby POIs"
   ]
  },
  {
   "cell_type": "markdown",
   "metadata": {},
   "source": [
    "To decide on a place, we would like to know from which apartment we can reach all required POI categories the quickest. So, first we look at the distances from each apartment to the respective POIs."
   ]
  },
  {
   "cell_type": "code",
   "execution_count": 9,
   "metadata": {},
   "outputs": [
    {
     "ename": "_OverQueryLimit",
     "evalue": "429 ({'error': 'Rate limit exceeded'})",
     "output_type": "error",
     "traceback": [
      "\u001b[0;31m---------------------------------------------------------------------------\u001b[0m",
      "\u001b[0;31m_OverQueryLimit\u001b[0m                           Traceback (most recent call last)",
      "\u001b[0;32m<ipython-input-9-a6b505a2eb90>\u001b[0m in \u001b[0;36m<module>\u001b[0;34m\u001b[0m\n\u001b[1;32m     24\u001b[0m                                            \u001b[0mpoi_coords\u001b[0m\u001b[0;34m\u001b[0m\u001b[0;34m\u001b[0m\u001b[0m\n\u001b[1;32m     25\u001b[0m                                           ]\n\u001b[0;32m---> 26\u001b[0;31m             \u001b[0mjson_route\u001b[0m \u001b[0;34m=\u001b[0m \u001b[0mclnt\u001b[0m\u001b[0;34m.\u001b[0m\u001b[0mdirections\u001b[0m\u001b[0;34m(\u001b[0m\u001b[0;34m**\u001b[0m\u001b[0mparams_route\u001b[0m\u001b[0;34m)\u001b[0m\u001b[0;34m\u001b[0m\u001b[0;34m\u001b[0m\u001b[0m\n\u001b[0m\u001b[1;32m     27\u001b[0m \u001b[0;34m\u001b[0m\u001b[0m\n\u001b[1;32m     28\u001b[0m             \u001b[0mfolium\u001b[0m\u001b[0;34m.\u001b[0m\u001b[0mfeatures\u001b[0m\u001b[0;34m.\u001b[0m\u001b[0mGeoJson\u001b[0m\u001b[0;34m(\u001b[0m\u001b[0mjson_route\u001b[0m\u001b[0;34m)\u001b[0m\u001b[0;34m.\u001b[0m\u001b[0madd_to\u001b[0m\u001b[0;34m(\u001b[0m\u001b[0mmapSF\u001b[0m\u001b[0;34m)\u001b[0m\u001b[0;34m\u001b[0m\u001b[0;34m\u001b[0m\u001b[0m\n",
      "\u001b[0;32m~/miniconda3/envs/ors2/lib/python3.6/site-packages/openrouteservice/client.py\u001b[0m in \u001b[0;36mwrapper\u001b[0;34m(*args, **kwargs)\u001b[0m\n\u001b[1;32m    293\u001b[0m     \u001b[0;32mdef\u001b[0m \u001b[0mwrapper\u001b[0m\u001b[0;34m(\u001b[0m\u001b[0;34m*\u001b[0m\u001b[0margs\u001b[0m\u001b[0;34m,\u001b[0m \u001b[0;34m**\u001b[0m\u001b[0mkwargs\u001b[0m\u001b[0;34m)\u001b[0m\u001b[0;34m:\u001b[0m\u001b[0;34m\u001b[0m\u001b[0;34m\u001b[0m\u001b[0m\n\u001b[1;32m    294\u001b[0m         \u001b[0margs\u001b[0m\u001b[0;34m[\u001b[0m\u001b[0;36m0\u001b[0m\u001b[0;34m]\u001b[0m\u001b[0;34m.\u001b[0m\u001b[0m_extra_params\u001b[0m \u001b[0;34m=\u001b[0m \u001b[0mkwargs\u001b[0m\u001b[0;34m.\u001b[0m\u001b[0mpop\u001b[0m\u001b[0;34m(\u001b[0m\u001b[0;34m\"extra_params\"\u001b[0m\u001b[0;34m,\u001b[0m \u001b[0;32mNone\u001b[0m\u001b[0;34m)\u001b[0m\u001b[0;34m\u001b[0m\u001b[0;34m\u001b[0m\u001b[0m\n\u001b[0;32m--> 295\u001b[0;31m         \u001b[0mresult\u001b[0m \u001b[0;34m=\u001b[0m \u001b[0mfunc\u001b[0m\u001b[0;34m(\u001b[0m\u001b[0;34m*\u001b[0m\u001b[0margs\u001b[0m\u001b[0;34m,\u001b[0m \u001b[0;34m**\u001b[0m\u001b[0mkwargs\u001b[0m\u001b[0;34m)\u001b[0m\u001b[0;34m\u001b[0m\u001b[0;34m\u001b[0m\u001b[0m\n\u001b[0m\u001b[1;32m    296\u001b[0m         \u001b[0;32mtry\u001b[0m\u001b[0;34m:\u001b[0m\u001b[0;34m\u001b[0m\u001b[0;34m\u001b[0m\u001b[0m\n\u001b[1;32m    297\u001b[0m             \u001b[0;32mdel\u001b[0m \u001b[0margs\u001b[0m\u001b[0;34m[\u001b[0m\u001b[0;36m0\u001b[0m\u001b[0;34m]\u001b[0m\u001b[0;34m.\u001b[0m\u001b[0m_extra_params\u001b[0m\u001b[0;34m\u001b[0m\u001b[0;34m\u001b[0m\u001b[0m\n",
      "\u001b[0;32m~/miniconda3/envs/ors2/lib/python3.6/site-packages/openrouteservice/directions.py\u001b[0m in \u001b[0;36mdirections\u001b[0;34m(client, coordinates, profile, format_out, preference, units, language, geometry, geometry_format, geometry_simplify, instructions, instructions_format, roundabout_exits, attributes, radiuses, bearings, continue_straight, elevation, extra_info, optimized, options, dry_run)\u001b[0m\n\u001b[1;32m    241\u001b[0m         \u001b[0mparams\u001b[0m\u001b[0;34m[\u001b[0m\u001b[0;34m'options'\u001b[0m\u001b[0;34m]\u001b[0m \u001b[0;34m=\u001b[0m \u001b[0mjson\u001b[0m\u001b[0;34m.\u001b[0m\u001b[0mdumps\u001b[0m\u001b[0;34m(\u001b[0m\u001b[0moptions\u001b[0m\u001b[0;34m)\u001b[0m\u001b[0;34m\u001b[0m\u001b[0;34m\u001b[0m\u001b[0m\n\u001b[1;32m    242\u001b[0m \u001b[0;34m\u001b[0m\u001b[0m\n\u001b[0;32m--> 243\u001b[0;31m     \u001b[0;32mreturn\u001b[0m \u001b[0mclient\u001b[0m\u001b[0;34m.\u001b[0m\u001b[0mrequest\u001b[0m\u001b[0;34m(\u001b[0m\u001b[0;34m\"/directions\"\u001b[0m\u001b[0;34m,\u001b[0m \u001b[0mparams\u001b[0m\u001b[0;34m,\u001b[0m \u001b[0mdry_run\u001b[0m\u001b[0;34m=\u001b[0m\u001b[0mdry_run\u001b[0m\u001b[0;34m)\u001b[0m\u001b[0;34m\u001b[0m\u001b[0;34m\u001b[0m\u001b[0m\n\u001b[0m",
      "\u001b[0;32m~/miniconda3/envs/ors2/lib/python3.6/site-packages/openrouteservice/client.py\u001b[0m in \u001b[0;36mrequest\u001b[0;34m(self, url, params, first_request_time, retry_counter, requests_kwargs, post_json, dry_run)\u001b[0m\n\u001b[1;32m    207\u001b[0m \u001b[0;34m\u001b[0m\u001b[0m\n\u001b[1;32m    208\u001b[0m         \u001b[0;32mtry\u001b[0m\u001b[0;34m:\u001b[0m\u001b[0;34m\u001b[0m\u001b[0;34m\u001b[0m\u001b[0m\n\u001b[0;32m--> 209\u001b[0;31m             \u001b[0mresult\u001b[0m \u001b[0;34m=\u001b[0m \u001b[0mself\u001b[0m\u001b[0;34m.\u001b[0m\u001b[0m_get_body\u001b[0m\u001b[0;34m(\u001b[0m\u001b[0mresponse\u001b[0m\u001b[0;34m)\u001b[0m\u001b[0;34m\u001b[0m\u001b[0;34m\u001b[0m\u001b[0m\n\u001b[0m\u001b[1;32m    210\u001b[0m             \u001b[0mself\u001b[0m\u001b[0;34m.\u001b[0m\u001b[0msent_times\u001b[0m\u001b[0;34m.\u001b[0m\u001b[0mappend\u001b[0m\u001b[0;34m(\u001b[0m\u001b[0mtime\u001b[0m\u001b[0;34m.\u001b[0m\u001b[0mtime\u001b[0m\u001b[0;34m(\u001b[0m\u001b[0;34m)\u001b[0m\u001b[0;34m)\u001b[0m\u001b[0;34m\u001b[0m\u001b[0;34m\u001b[0m\u001b[0m\n\u001b[1;32m    211\u001b[0m             \u001b[0;32mreturn\u001b[0m \u001b[0mresult\u001b[0m\u001b[0;34m\u001b[0m\u001b[0;34m\u001b[0m\u001b[0m\n",
      "\u001b[0;32m~/miniconda3/envs/ors2/lib/python3.6/site-packages/openrouteservice/client.py\u001b[0m in \u001b[0;36m_get_body\u001b[0;34m(self, response)\u001b[0m\n\u001b[1;32m    230\u001b[0m         \u001b[0;32mif\u001b[0m \u001b[0mstatus_code\u001b[0m \u001b[0;34m==\u001b[0m \u001b[0;36m429\u001b[0m\u001b[0;34m:\u001b[0m\u001b[0;34m\u001b[0m\u001b[0;34m\u001b[0m\u001b[0m\n\u001b[1;32m    231\u001b[0m             raise exceptions._OverQueryLimit(\n\u001b[0;32m--> 232\u001b[0;31m                 str(status_code), body)\n\u001b[0m\u001b[1;32m    233\u001b[0m         \u001b[0;32mif\u001b[0m \u001b[0mstatus_code\u001b[0m \u001b[0;34m!=\u001b[0m \u001b[0;36m200\u001b[0m\u001b[0;34m:\u001b[0m\u001b[0;34m\u001b[0m\u001b[0;34m\u001b[0m\u001b[0m\n\u001b[1;32m    234\u001b[0m             raise exceptions.ApiError(status_code,\n",
      "\u001b[0;31m_OverQueryLimit\u001b[0m: 429 ({'error': 'Rate limit exceeded'})"
     ]
    }
   ],
   "source": [
    "# Set up common request parameters\n",
    "params_route = {'profile': 'foot-walking',\n",
    "               'format_out': 'geojson',\n",
    "               'geometry': 'true',\n",
    "               'geometry_format': 'geojson',\n",
    "               'instructions': 'false',\n",
    "               }\n",
    "\n",
    "# Set up dict for font-awesome\n",
    "style_dict = {'kindergarten': 'child',\n",
    "              'supermarket': 'shopping-cart',\n",
    "              'hairdresser': 'scissors'\n",
    "             }\n",
    "\n",
    "# Store all routes from all apartments to POIs\n",
    "for apt in appartments.values():\n",
    "    for cat, pois in apt['categories'].items():\n",
    "        pois['durations'] = []\n",
    "        for poi in pois['geojson']:\n",
    "            poi_coords = poi['geometry']['coordinates']\n",
    "            \n",
    "            # Perform actual request\n",
    "            params_route['coordinates'] = [apt['location'],\n",
    "                                           poi_coords\n",
    "                                          ]\n",
    "            json_route = clnt.directions(**params_route)\n",
    "            \n",
    "            folium.features.GeoJson(json_route).add_to(mapSF)\n",
    "            folium.map.Marker(list(reversed(poi_coords)),\n",
    "                              icon=folium.Icon(color='white',\n",
    "                                               icon_color='#1a1aff',\n",
    "                                               icon=style_dict[cat],\n",
    "                                               prefix='fa'\n",
    "                                              )\n",
    "                             ).add_to(mapSF)\n",
    "            \n",
    "            poi_duration = json_route['features'][0]['properties']['summary'][0]['duration']\n",
    "            pois['durations'].append(poi_duration) # Record durations of routes\n",
    "        \n",
    "mapSF"
   ]
  },
  {
   "cell_type": "markdown",
   "metadata": {},
   "source": [
    "# Quickest route to all POIs"
   ]
  },
  {
   "cell_type": "markdown",
   "metadata": {},
   "source": [
    "Now, we only need to determine which apartment is closest to all POI categories."
   ]
  },
  {
   "cell_type": "code",
   "execution_count": 6,
   "metadata": {},
   "outputs": [
    {
     "name": "stdout",
     "output_type": "stream",
     "text": [
      "first apartments: 37.098333333333336 mins\n",
      "second apartments: 40.325 mins\n",
      "third apartments: 35.315000000000005 mins\n"
     ]
    }
   ],
   "source": [
    "# Sum up the closest POIs to each apartment\n",
    "for name, apt in apt_dict.items():\n",
    "    apt['shortest_sum'] = sum([min(cat['durations']) for cat in apt['categories'].values()])\n",
    "    print(\"{} apartments: {} mins\".format(name,\n",
    "                                          apt['shortest_sum']/60\n",
    "                                         )\n",
    "         )"
   ]
  },
  {
   "cell_type": "markdown",
   "metadata": {},
   "source": [
    "# We got a winner!"
   ]
  },
  {
   "cell_type": "markdown",
   "metadata": {},
   "source": [
    "Finally, it looks like the 3rd apartment is the one where we would need to walk the shortest amount of time to reach a kindergarten, supermarket and a hair dresser. Let's pack those boxes and welcome to San Francisco."
   ]
  }
 ],
 "metadata": {
  "kernelspec": {
   "display_name": "Python 3",
   "language": "python",
   "name": "python3"
  },
  "language_info": {
   "codemirror_mode": {
    "name": "ipython",
    "version": 3
   },
   "file_extension": ".py",
   "mimetype": "text/x-python",
   "name": "python",
   "nbconvert_exporter": "python",
   "pygments_lexer": "ipython3",
   "version": "3.6.7"
  }
 },
 "nbformat": 4,
 "nbformat_minor": 2
}
