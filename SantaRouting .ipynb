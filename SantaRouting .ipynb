{
 "cells": [
  {
   "cell_type": "markdown",
   "metadata": {},
   "source": [
    "# Route optimization of a pub crawl with ORS and `ortools`"
   ]
  },
  {
   "cell_type": "markdown",
   "metadata": {},
   "source": [
    "It's this of the year again (or will be in 6 months): the freshmen pour into the institute and as the diligent student council you are, you want to welcome them for their geo adventure with a stately pub crawl to prepare them for the challenges lying ahead.\n",
    "\n",
    "We want to give you the opportunity to route the pack of rookies in a fairly optimal way:"
   ]
  },
  {
   "cell_type": "code",
   "execution_count": 1,
   "metadata": {},
   "outputs": [
    {
     "ename": "SyntaxError",
     "evalue": "invalid syntax (<ipython-input-1-0141c2c0c753>, line 1)",
     "output_type": "error",
     "traceback": [
      "\u001b[0;36m  File \u001b[0;32m\"<ipython-input-1-0141c2c0c753>\"\u001b[0;36m, line \u001b[0;32m1\u001b[0m\n\u001b[0;31m    mkdir ors-pubcrawl\u001b[0m\n\u001b[0m            ^\u001b[0m\n\u001b[0;31mSyntaxError\u001b[0m\u001b[0;31m:\u001b[0m invalid syntax\n"
     ]
    }
   ],
   "source": [
    "conda create -n ors python=3.6 shapely\n",
    "conda activate ors\n",
    "pip install openrouteservice ortools\n",
    "conda install -c conda-forge folium\n",
    "conda install nb_conda_kernels"
   ]
  },
  {
   "cell_type": "code",
   "execution_count": 96,
   "metadata": {},
   "outputs": [],
   "source": [
    "import folium\n",
    "from shapely import wkt, geometry\n",
    "import json\n",
    "from pprint import pprint"
   ]
  },
  {
   "cell_type": "markdown",
   "metadata": {},
   "source": [
    "## Visualize the study area"
   ]
  },
  {
   "cell_type": "markdown",
   "metadata": {},
   "source": [
    "Now we're ready to start our most optimally planned pub crawl ever through hipster Kreuzberg! It will also be the most un-hipster pub crawl ever, as we'll cover ground with a taxi. At least it's safer than biking half-delirious.\n",
    "\n",
    "First the basic parameters: API key and the district polygon to limit our pub search. The Well Known Text was prepared in QGIS from Berlin authority's [WFS](http://fbinter.stadt-berlin.de/fb/wfs/geometry/senstadt/re_ortsteil/) (QGIS field calculator has a `geom_to_wkt` method). BTW, Berlin, hope you don't wonder why your feature services are so slow... Simplify is the magic word, simplify."
   ]
  },
  {
   "cell_type": "markdown",
   "metadata": {},
   "source": [
    "Get your polygon as wkt string from https://arthur-e.github.io/Wicket/sandbox-gmaps3.html"
   ]
  },
  {
   "cell_type": "code",
   "execution_count": 2,
   "metadata": {},
   "outputs": [],
   "source": [
    "wkt_str = 'Polygon ((8.589017443593661 49.454146402109245,8.758618884023349 49.454146402109245,8.758618884023349 49.35182374980772,8.589017443593661 49.35182374980772,8.589017443593661 49.454146402109245))'\n",
    "aoi_geom = wkt.loads(wkt_str) # load geometry from WKT string\n",
    "\n",
    "aoi_coords = list(aoi_geom.exterior.coords) # get coords from exterior ring\n",
    "aoi_coords = [(y,x) for x,y in aoi_coords] # swap (x,y) to (y,x). Really leaflet?!\n",
    "aoi_centroid = aoi_geom.centroid # Heidelberg center for map center"
   ]
  },
  {
   "cell_type": "markdown",
   "metadata": {},
   "source": [
    "## Create a list of your route stops\n",
    "We will use the Nominatim geocoder to find the coordinates of POIs in OSM. Use your email address as \"user_agent\"."
   ]
  },
  {
   "cell_type": "code",
   "execution_count": 66,
   "metadata": {},
   "outputs": [],
   "source": [
    "from geopy.geocoders import Nominatim\n",
    "geolocator = Nominatim(user_agent=\"Christina.ludwig@uni-heidelberg.de\")"
   ]
  },
  {
   "cell_type": "code",
   "execution_count": 132,
   "metadata": {},
   "outputs": [],
   "source": [
    "# Function the switches the x and y coordinates, so that it is displayed correctly in the map ... just ignore it.\n",
    "def switchCoords(coords):\n",
    "    return (coords[1], coords[0])"
   ]
  },
  {
   "cell_type": "code",
   "execution_count": 113,
   "metadata": {},
   "outputs": [],
   "source": [
    "stops = [{'coordinates' : switchCoords(geolocator.geocode(\"Wochenmarkt, Heidelberg, Germany\")[1]), 'name': 'Christmas Market'},\n",
    "            {'coordinates' : switchCoords(geolocator.geocode(\"Universitäts-Apotheke, Heidelberg, Germany\")[1]), 'name': 'Pharmacy'},\n",
    "            {'coordinates' : switchCoords(geolocator.geocode(\"Bismarckplatz, Heidelberg, Germany\")[1]), 'name': 'Bismarkplatz'},\n",
    "            {'coordinates' : switchCoords(geolocator.geocode(\"Zeughaus, Heidelberg, Germany\")[1]), 'name': 'Marstall'},\n",
    "            {'coordinates' : switchCoords(geolocator.geocode(\"Heidelberger Zuckerladen, Heidelberg, Germany\")[1]), 'name': 'Zuckerladen'}]"
   ]
  },
  {
   "cell_type": "code",
   "execution_count": 114,
   "metadata": {},
   "outputs": [
    {
     "data": {
      "text/plain": [
       "[{'coordinates': (8.71047601790124, 49.41212685), 'name': 'Christmas Market'},\n",
       " {'coordinates': (8.7045353, 49.4114141), 'name': 'Pharmacy'},\n",
       " {'coordinates': (8.69299861340895, 49.41001065), 'name': 'Bismarkplatz'},\n",
       " {'coordinates': (8.70515231355789, 49.4129347), 'name': 'Marstall'},\n",
       " {'coordinates': (8.7031265, 49.4093992), 'name': 'Zuckerladen'}]"
      ]
     },
     "execution_count": 114,
     "metadata": {},
     "output_type": "execute_result"
    }
   ],
   "source": [
    "stops"
   ]
  },
  {
   "cell_type": "markdown",
   "metadata": {},
   "source": [
    "## Create a map that shows all stops"
   ]
  },
  {
   "cell_type": "markdown",
   "metadata": {},
   "source": [
    "Center map on Wochenmarkt by taking the coordinates of the first element in the list \"stops\""
   ]
  },
  {
   "cell_type": "code",
   "execution_count": 133,
   "metadata": {},
   "outputs": [],
   "source": [
    "centerOfMap = geometry.Point(stops[0]['coordinates'])"
   ]
  },
  {
   "cell_type": "markdown",
   "metadata": {},
   "source": [
    "Create a map object and display it\n"
   ]
  },
  {
   "cell_type": "code",
   "execution_count": 134,
   "metadata": {},
   "outputs": [
    {
     "data": {
      "text/html": [
       "<div style=\"width:100%;\"><div style=\"position:relative;width:100%;height:0;padding-bottom:60%;\"><iframe src=\"data:text/html;charset=utf-8;base64,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\" style=\"position:absolute;width:100%;height:100%;left:0;top:0;border:none !important;\" allowfullscreen webkitallowfullscreen mozallowfullscreen></iframe></div></div>"
      ],
      "text/plain": [
       "<folium.folium.Map at 0x1219b3be0>"
      ]
     },
     "execution_count": 134,
     "metadata": {},
     "output_type": "execute_result"
    }
   ],
   "source": [
    "# Create a map object\n",
    "mapHD = folium.Map(tiles='Stamen Toner',location=(centerOfMap.y, centerOfMap.x), zoom_start=14)\n",
    "# Display updated map\n",
    "mapHD"
   ]
  },
  {
   "cell_type": "markdown",
   "metadata": {},
   "source": [
    "Add the stops as Markers with a Popup to the map."
   ]
  },
  {
   "cell_type": "code",
   "execution_count": 135,
   "metadata": {
    "scrolled": false
   },
   "outputs": [
    {
     "data": {
      "text/html": [
       "<div style=\"width:100%;\"><div style=\"position:relative;width:100%;height:0;padding-bottom:60%;\"><iframe src=\"data:text/html;charset=utf-8;base64,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\" style=\"position:absolute;width:100%;height:100%;left:0;top:0;border:none !important;\" allowfullscreen webkitallowfullscreen mozallowfullscreen></iframe></div></div>"
      ],
      "text/plain": [
       "<folium.folium.Map at 0x1219b3be0>"
      ]
     },
     "execution_count": 135,
     "metadata": {},
     "output_type": "execute_result"
    }
   ],
   "source": [
    "stopMarkers = []\n",
    "\n",
    "for stop in stops:\n",
    "    lon, lat = stop['coordinates']\n",
    "    name = stop['name']\n",
    "    popup = \"<strong>{0}</strong><br>Lat: {1:.3f}<br>Long: {2:.3f}\".format(name, lat, lon)\n",
    "    icon = folium.map.Icon(color='lightgray',\n",
    "                        icon_color='#b5231a',\n",
    "                        icon='star', # fetches font-awesome.io symbols\n",
    "                        prefix='fa')\n",
    "    folium.map.Marker([lat, lon], icon=icon, popup=popup).add_to(mapHD)\n",
    "    stopMarkers.append(name)\n",
    "# Display updated map\n",
    "mapHD"
   ]
  },
  {
   "cell_type": "markdown",
   "metadata": {},
   "source": [
    "## Find the optimal route connecting all stops\n",
    "To determine the optimal route between the stops, we will use different ORS tools."
   ]
  },
  {
   "cell_type": "code",
   "execution_count": 143,
   "metadata": {},
   "outputs": [],
   "source": [
    "# Import all classes and functions that we need from the Open Route Service Python package\n",
    "from openrouteservice import client, distance_matrix, directions\n",
    "from ortools.constraint_solver import pywrapcp\n",
    "from ortools.constraint_solver import routing_enums_pb2"
   ]
  },
  {
   "cell_type": "markdown",
   "metadata": {},
   "source": [
    "In order to use the OpenRouteService API you have to create and account and a free API key [here](https://openrouteservice.org/dev/#/login) After you created your API key, paste it below into the variable \"api_key\" in the second box below."
   ]
  },
  {
   "cell_type": "code",
   "execution_count": 144,
   "metadata": {},
   "outputs": [],
   "source": [
    "# Create a client using your API key that will execute all your requests to the ORS\n",
    "api_key = '5b3ce3597851110001cf62483ae5cf98ae4743649600ff877943b339' #Provide your personal API key\n",
    "myClient = client.Client(key=api_key)"
   ]
  },
  {
   "cell_type": "markdown",
   "metadata": {},
   "source": [
    "In order to find the optimal route between, we first calculate the distances between all route stops. Set the routing profile (e.g. foot-walking, driving-car) and metric (duration or distance). For a list of available profiles see [Open Route Service Matrix Tool](https://openrouteservice.org/documentation/#/reference/matrix/matrix-service-(get))\n",
    "\n",
    "\n"
   ]
  },
  {
   "cell_type": "code",
   "execution_count": 147,
   "metadata": {},
   "outputs": [],
   "source": [
    "profile = 'foot-walking'\n",
    "metric = ['duration']"
   ]
  },
  {
   "cell_type": "code",
   "execution_count": 170,
   "metadata": {},
   "outputs": [],
   "source": [
    "# Extract the coordinates from the list of stops\n",
    "stop_coords = [feat['coordinates'] for feat in stops]\n",
    "# Request to the ORS \n",
    "request = {'locations': stop_coords,\n",
    "           'profile': profile,\n",
    "           'metrics': metric}\n",
    "# Execute the request\n",
    "stops_matrix = clnt.distance_matrix(**request)"
   ]
  },
  {
   "cell_type": "code",
   "execution_count": 171,
   "metadata": {},
   "outputs": [
    {
     "data": {
      "text/html": [
       "<div>\n",
       "<style scoped>\n",
       "    .dataframe tbody tr th:only-of-type {\n",
       "        vertical-align: middle;\n",
       "    }\n",
       "\n",
       "    .dataframe tbody tr th {\n",
       "        vertical-align: top;\n",
       "    }\n",
       "\n",
       "    .dataframe thead th {\n",
       "        text-align: right;\n",
       "    }\n",
       "</style>\n",
       "<table border=\"1\" class=\"dataframe\">\n",
       "  <thead>\n",
       "    <tr style=\"text-align: right;\">\n",
       "      <th></th>\n",
       "      <th>Christmas Market</th>\n",
       "      <th>Pharmacy</th>\n",
       "      <th>Bismarkplatz</th>\n",
       "      <th>Marstall</th>\n",
       "      <th>Zuckerladen</th>\n",
       "    </tr>\n",
       "  </thead>\n",
       "  <tbody>\n",
       "    <tr>\n",
       "      <th>Christmas Market</th>\n",
       "      <td>0.00</td>\n",
       "      <td>345.77</td>\n",
       "      <td>1014.06</td>\n",
       "      <td>406.19</td>\n",
       "      <td>570.61</td>\n",
       "    </tr>\n",
       "    <tr>\n",
       "      <th>Pharmacy</th>\n",
       "      <td>345.77</td>\n",
       "      <td>0.00</td>\n",
       "      <td>668.30</td>\n",
       "      <td>165.83</td>\n",
       "      <td>252.74</td>\n",
       "    </tr>\n",
       "    <tr>\n",
       "      <th>Bismarkplatz</th>\n",
       "      <td>1014.06</td>\n",
       "      <td>668.30</td>\n",
       "      <td>0.00</td>\n",
       "      <td>800.05</td>\n",
       "      <td>629.67</td>\n",
       "    </tr>\n",
       "    <tr>\n",
       "      <th>Marstall</th>\n",
       "      <td>406.19</td>\n",
       "      <td>165.83</td>\n",
       "      <td>800.05</td>\n",
       "      <td>0.00</td>\n",
       "      <td>411.07</td>\n",
       "    </tr>\n",
       "    <tr>\n",
       "      <th>Zuckerladen</th>\n",
       "      <td>570.61</td>\n",
       "      <td>252.74</td>\n",
       "      <td>629.67</td>\n",
       "      <td>411.07</td>\n",
       "      <td>0.00</td>\n",
       "    </tr>\n",
       "  </tbody>\n",
       "</table>\n",
       "</div>"
      ],
      "text/plain": [
       "                  Christmas Market  Pharmacy  Bismarkplatz  Marstall  \\\n",
       "Christmas Market              0.00    345.77       1014.06    406.19   \n",
       "Pharmacy                    345.77      0.00        668.30    165.83   \n",
       "Bismarkplatz               1014.06    668.30          0.00    800.05   \n",
       "Marstall                    406.19    165.83        800.05      0.00   \n",
       "Zuckerladen                 570.61    252.74        629.67    411.07   \n",
       "\n",
       "                  Zuckerladen  \n",
       "Christmas Market       570.61  \n",
       "Pharmacy               252.74  \n",
       "Bismarkplatz           629.67  \n",
       "Marstall               411.07  \n",
       "Zuckerladen              0.00  "
      ]
     },
     "execution_count": 171,
     "metadata": {},
     "output_type": "execute_result"
    }
   ],
   "source": [
    "# Visualize the resulting stops_matrix \n",
    "import pandas as pd\n",
    "stop_names = [st['name'] for st in stops]\n",
    "df = pd.DataFrame(stops_matrix['durations'], columns=stop_names, index=stop_names)\n",
    "df"
   ]
  },
  {
   "cell_type": "markdown",
   "metadata": {},
   "source": [
    "The code below finds the optimal route. Don't look at it in too much detail. It's not necessary to understand all of it \n"
   ]
  },
  {
   "cell_type": "code",
   "execution_count": 172,
   "metadata": {
    "scrolled": true
   },
   "outputs": [
    {
     "name": "stdout",
     "output_type": "stream",
     "text": [
      "Total duration: 40.53333333333333 minutes\n",
      "\n",
      "Route:\n",
      "Christmas Market -> Marstall -> Bismarkplatz -> Zuckerladen -> Pharmacy -> Christmas Market\n"
     ]
    }
   ],
   "source": [
    "def getDistance(from_id, to_id):\n",
    "    return int(stations_matrix['durations'][from_id][to_id])\n",
    "\n",
    "tsp_size = len(stop_names)\n",
    "num_routes = 1\n",
    "start = 0 # arbitrary start location\n",
    "\n",
    "optimal_coords = []\n",
    "\n",
    "if tsp_size > 0:\n",
    "    routing = pywrapcp.RoutingModel(tsp_size, num_routes, start)\n",
    "    search_parameters = pywrapcp.RoutingModel.DefaultSearchParameters()\n",
    "    # Create the distance callback, which takes two arguments (the from and to node indices)\n",
    "    # and returns the distance between these nodes.\n",
    "    routing.SetArcCostEvaluatorOfAllVehicles(getDistance)\n",
    "    # Solve, returns a solution if any.\n",
    "    assignment = routing.SolveWithParameters(search_parameters)\n",
    "    if assignment:\n",
    "        # Total cost of the 'optimal' solution.\n",
    "        print(\"Total duration: \" + str(round(assignment.ObjectiveValue(), 3) / 60) + \" minutes\\n\")\n",
    "        index = routing.Start(start) # Index of the variable for the starting node.\n",
    "        route = ''\n",
    "        # while not routing.IsEnd(index):\n",
    "        for node in range(routing.nodes()):\n",
    "            optimal_coords.append(stations_coords[routing.IndexToNode(index)])\n",
    "            route += str(addresses[routing.IndexToNode(index)]) + ' -> '\n",
    "            index = assignment.Value(routing.NextVar(index))\n",
    "        route += str(addresses[routing.IndexToNode(index)])\n",
    "        optimal_coords.append(stations_coords[routing.IndexToNode(index)])\n",
    "        print(\"Route:\\n\" + route)"
   ]
  },
  {
   "cell_type": "markdown",
   "metadata": {},
   "source": [
    "Visualizing both, the optimal route, and the more or less random waypoint order of the intial GeoJSON, look like this:"
   ]
  },
  {
   "cell_type": "code",
   "execution_count": 87,
   "metadata": {
    "scrolled": false
   },
   "outputs": [
    {
     "data": {
      "text/html": [
       "<div style=\"width:100%;\"><div style=\"position:relative;width:100%;height:0;padding-bottom:60%;\"><iframe src=\"data:text/html;charset=utf-8;base64,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\" style=\"position:absolute;width:100%;height:100%;left:0;top:0;border:none !important;\" allowfullscreen webkitallowfullscreen mozallowfullscreen></iframe></div></div>"
      ],
      "text/plain": [
       "<folium.folium.Map at 0x1256cdf28>"
      ]
     },
     "execution_count": 87,
     "metadata": {},
     "output_type": "execute_result"
    }
   ],
   "source": [
    "import os.path\n",
    "\n",
    "def style_function(color):\n",
    "    return lambda feature: dict(color=color,\n",
    "                              weight=3,\n",
    "                              opacity=1)\n",
    "\n",
    "m = folium.Map(tiles='Stamen Toner',location=(aoi_centroid.y, aoi_centroid.x), zoom_start=14)\n",
    "# See what a 'random' tour would have been\n",
    "stations_coords.append(stations_coords[0])\n",
    "request = {'coordinates': stations_coords,\n",
    "           'profile': 'foot-walking',\n",
    "           'geometry': 'true',\n",
    "           'format_out': 'geojson',\n",
    "#            'instructions': 'false'          \n",
    "          }\n",
    "random_route = clnt.directions(**request)\n",
    "\n",
    "folium.features.GeoJson(data=random_route,\n",
    "                        name='Random Route',\n",
    "                        style_function=style_function('#84e184'),\n",
    "                       overlay=True).add_to(m)\n",
    "\n",
    "# And now the optimal route\n",
    "request['coordinates'] = optimal_coords\n",
    "optimal_route = clnt.directions(**request)\n",
    "optRoute = folium.features.GeoJson(data=optimal_route,\n",
    "                        name='Optimal Route',\n",
    "                        style_function=style_function('#6666ff'),\n",
    "                       overlay=True).add_to(m)\n",
    "\n",
    "# add the layer control\n",
    "m.add_child(folium.LayerControl())\n",
    "m"
   ]
  },
  {
   "cell_type": "markdown",
   "metadata": {},
   "source": [
    "### Export the optimal route to a geojson file"
   ]
  },
  {
   "cell_type": "code",
   "execution_count": 23,
   "metadata": {},
   "outputs": [],
   "source": [
    "import json\n",
    "with open(\"/Users/chludwig/Data/temp/optimalRoute.geojson\", \"w\") as fp: \n",
    "    json.dump(optimal_route, fp)"
   ]
  },
  {
   "cell_type": "markdown",
   "metadata": {},
   "source": [
    "The purple route looks a bit less painful. Let's see what the actual numbers say:"
   ]
  },
  {
   "cell_type": "code",
   "execution_count": 16,
   "metadata": {},
   "outputs": [
    {
     "name": "stdout",
     "output_type": "stream",
     "text": [
      "Duration optimal route: 22.128 mins\n",
      "Duration random route: 29.093 mins\n"
     ]
    }
   ],
   "source": [
    "optimal_duration = 0\n",
    "random_duration = 0\n",
    "\n",
    "optimal_duration = optimal_route['features'][0]['properties']['summary'][0]['duration'] / 60\n",
    "random_duration = random_route['features'][0]['properties']['summary'][0]['duration'] / 60\n",
    "    \n",
    "print(\"Duration optimal route: {0:.3f} mins\\nDuration random route: {1:.3f} mins\".format(optimal_duration,\n",
    "                                                                                         random_duration))"
   ]
  },
  {
   "cell_type": "markdown",
   "metadata": {},
   "source": [
    "The actual routing duration for the optimal order of venues is even minimally smaller than the optimization result (40.983 mins). Optimizing that route saved us a good 120€ worth of taxi costs."
   ]
  }
 ],
 "metadata": {
  "kernelspec": {
   "display_name": "Python 3",
   "language": "python",
   "name": "python3"
  },
  "language_info": {
   "codemirror_mode": {
    "name": "ipython",
    "version": 3
   },
   "file_extension": ".py",
   "mimetype": "text/x-python",
   "name": "python",
   "nbconvert_exporter": "python",
   "pygments_lexer": "ipython3",
   "version": "3.6.6"
  }
 },
 "nbformat": 4,
 "nbformat_minor": 2
}
