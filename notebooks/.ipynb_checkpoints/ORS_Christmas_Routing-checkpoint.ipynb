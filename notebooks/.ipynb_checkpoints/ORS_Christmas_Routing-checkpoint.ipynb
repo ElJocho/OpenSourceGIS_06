{
 "cells": [
  {
   "cell_type": "markdown",
   "metadata": {},
   "source": [
    "# Optimize your Christmas shopping route using OpenRouteService"
   ]
  },
  {
   "cell_type": "markdown",
   "metadata": {},
   "source": [
    "It's Christmas time again and everyone is busy buying presents and visiting christmas markets. In order to get all those tasks done in a most efficient way, you want to get the optimal route connecting all your stops. The Open Route Service will help us finding that route. \n",
    "\n",
    "First, we need to import some python modules."
   ]
  },
  {
   "cell_type": "code",
   "execution_count": 2,
   "metadata": {},
   "outputs": [],
   "source": [
    "import folium\n",
    "from shapely import wkt, geometry\n",
    "import json\n",
    "import os.path"
   ]
  },
  {
   "cell_type": "markdown",
   "metadata": {},
   "source": [
    "## 1. Create a list of all the stops on your Christmas shopping route\n",
    "We will use the Nominatim geocoder to find the coordinates of POIs that are mapped in OSM. Use your email address as \"user_agent\"."
   ]
  },
  {
   "cell_type": "code",
   "execution_count": 3,
   "metadata": {},
   "outputs": [],
   "source": [
    "from geopy.geocoders import Nominatim\n",
    "geolocator = Nominatim(user_agent=\"Christina.ludwig@uni-heidelberg.de\")"
   ]
  },
  {
   "cell_type": "code",
   "execution_count": 4,
   "metadata": {},
   "outputs": [],
   "source": [
    "# Not important: Function that switches the x and y coordinates, so that it is displayed correctly in the map\n",
    "def switchCoords(coords):\n",
    "    return (coords[1], coords[0])"
   ]
  },
  {
   "cell_type": "code",
   "execution_count": 5,
   "metadata": {},
   "outputs": [],
   "source": [
    "stops = [{'coordinates' : switchCoords(geolocator.geocode(\"Wochenmarkt, Heidelberg, Germany\")[1]), \n",
    "        'name': 'Christmas Market'},\n",
    "        {'coordinates' : switchCoords(geolocator.geocode(\"Universitäts-Apotheke, Heidelberg, Germany\")[1]), \n",
    "        'name': 'Pharmacy'},\n",
    "        {'coordinates' : switchCoords(geolocator.geocode(\"Bismarckplatz, Heidelberg, Germany\")[1]), \n",
    "        'name': 'Bismarkplatz'},\n",
    "        {'coordinates' : switchCoords(geolocator.geocode(\"Schwarzer Peter, Heidelberg, Germany\")[1]), \n",
    "        'name': 'Schwarzer Peter'},\n",
    "        {'coordinates' : switchCoords(geolocator.geocode(\"Zeughaus, Heidelberg, Germany\")[1]), \n",
    "        'name': 'Marstall'},\n",
    "        {'coordinates' : switchCoords([49.4093992, 8.7031265]), \n",
    "        'name': 'Zuckerladen'}\n",
    "        ]"
   ]
  },
  {
   "cell_type": "code",
   "execution_count": 6,
   "metadata": {
    "scrolled": true
   },
   "outputs": [
    {
     "data": {
      "text/plain": [
       "[{'coordinates': (8.71047601790124, 49.41212685), 'name': 'Christmas Market'},\n",
       " {'coordinates': (8.7045353, 49.4114141), 'name': 'Pharmacy'},\n",
       " {'coordinates': (8.69299861340895, 49.41001065), 'name': 'Bismarkplatz'},\n",
       " {'coordinates': (8.6845637, 49.4032452), 'name': 'Schwarzer Peter'},\n",
       " {'coordinates': (8.70515231355789, 49.4129347), 'name': 'Marstall'},\n",
       " {'coordinates': (8.7031265, 49.4093992), 'name': 'Zuckerladen'}]"
      ]
     },
     "execution_count": 6,
     "metadata": {},
     "output_type": "execute_result"
    }
   ],
   "source": [
    "stops"
   ]
  },
  {
   "cell_type": "markdown",
   "metadata": {},
   "source": [
    "## 2. Create a map that shows all stops"
   ]
  },
  {
   "cell_type": "markdown",
   "metadata": {},
   "source": [
    "Now we are going to visualize the stops of our Christmas route. The center the map should be on the Wochenmarkt. Therfore, we extract the coordinates of the first element in the list `stops`. Aftwards, we create a map object and display it.\n"
   ]
  },
  {
   "cell_type": "code",
   "execution_count": 7,
   "metadata": {
    "scrolled": false
   },
   "outputs": [],
   "source": [
    "centerOfMap = geometry.Point(stops[0]['coordinates'])\n",
    "# Create a map object\n",
    "mapHD = folium.Map(tiles='Stamen Toner',location=(centerOfMap.y, centerOfMap.x), zoom_start=14)\n",
    "# Display updated map\n",
    "#mapHD"
   ]
  },
  {
   "cell_type": "markdown",
   "metadata": {},
   "source": [
    "Now, let's add all stops as markers to the map."
   ]
  },
  {
   "cell_type": "code",
   "execution_count": 8,
   "metadata": {
    "scrolled": false
   },
   "outputs": [
    {
     "data": {
      "text/html": [
       "<div style=\"width:100%;\"><div style=\"position:relative;width:100%;height:0;padding-bottom:60%;\"><iframe src=\"data:text/html;charset=utf-8;base64,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\" style=\"position:absolute;width:100%;height:100%;left:0;top:0;border:none !important;\" allowfullscreen webkitallowfullscreen mozallowfullscreen></iframe></div></div>"
      ],
      "text/plain": [
       "<folium.folium.Map at 0x11fcfba58>"
      ]
     },
     "execution_count": 8,
     "metadata": {},
     "output_type": "execute_result"
    }
   ],
   "source": [
    "stopMarkers = []\n",
    "for stop in stops:\n",
    "    lon, lat = stop['coordinates']\n",
    "    name = stop['name']\n",
    "    popup = \"<strong>{0}</strong><br>Lat: {1:.3f}<br>Long: {2:.3f}\".format(name, lat, lon)\n",
    "    icon = folium.map.Icon(color='lightgray',\n",
    "                        icon_color='#b5231a',\n",
    "                        icon='star', # fetches font-awesome.io symbols\n",
    "                        prefix='fa')\n",
    "    folium.map.Marker([lat, lon], icon=icon, popup=popup).add_to(mapHD)\n",
    "    stopMarkers.append(name)\n",
    "# Display updated map\n",
    "mapHD"
   ]
  },
  {
   "cell_type": "markdown",
   "metadata": {},
   "source": [
    "## 3. Find the optimal route connecting all stops\n",
    "### 3.1 Find optimal order of stops\n",
    "We will use different ORS tools to determine the optimal route between the stops. Therefore, we need to import all necessary ORS modules."
   ]
  },
  {
   "cell_type": "code",
   "execution_count": 9,
   "metadata": {},
   "outputs": [],
   "source": [
    "from openrouteservice import client, distance_matrix, directions\n",
    "from ortools.constraint_solver import pywrapcp\n",
    "from ortools.constraint_solver import routing_enums_pb2"
   ]
  },
  {
   "cell_type": "markdown",
   "metadata": {},
   "source": [
    "In order to use the OpenRouteService API you have to create an account and request a free API key [here](https://openrouteservice.org/dev/#/login). Paste your API key below into the variable \"api_key\". Using this key, we create a client object (`myClient`) hat will execute all your requests to the ORS."
   ]
  },
  {
   "cell_type": "code",
   "execution_count": 10,
   "metadata": {
    "scrolled": true
   },
   "outputs": [],
   "source": [
    "api_key = '5b3ce3597851110001cf62483ae5cf98ae4743649600ff877943b339' #Provide your personal API key\n",
    "ORSclient = client.Client(key=api_key)"
   ]
  },
  {
   "cell_type": "markdown",
   "metadata": {},
   "source": [
    "In order to find the optimal route, we first calculate the distances between all route stops. Set the routing profile (e.g. foot-walking, driving-car) and metric."
   ]
  },
  {
   "cell_type": "code",
   "execution_count": 11,
   "metadata": {},
   "outputs": [],
   "source": [
    "# ORS routing profile\n",
    "profile = 'foot-walking'\n",
    "# Metric used to optimize route (duration or distance)\n",
    "metric = ['duration']"
   ]
  },
  {
   "cell_type": "code",
   "execution_count": 12,
   "metadata": {},
   "outputs": [],
   "source": [
    "# Extract the coordinates from the list of stops\n",
    "stop_coords = [feat['coordinates'] for feat in stops]\n",
    "# Request to the ORS \n",
    "request = {'locations': stop_coords,\n",
    "           'profile': profile,\n",
    "           'metrics': metric}\n",
    "# Execute the request\n",
    "stops_matrix = ORSclient.distance_matrix(**request)"
   ]
  },
  {
   "cell_type": "markdown",
   "metadata": {},
   "source": [
    "The result of the request is a matrix that contains the distances between all stops. For better readability we will visualize it as a dataframe using the pandas module."
   ]
  },
  {
   "cell_type": "code",
   "execution_count": 13,
   "metadata": {},
   "outputs": [
    {
     "data": {
      "text/html": [
       "<div>\n",
       "<style scoped>\n",
       "    .dataframe tbody tr th:only-of-type {\n",
       "        vertical-align: middle;\n",
       "    }\n",
       "\n",
       "    .dataframe tbody tr th {\n",
       "        vertical-align: top;\n",
       "    }\n",
       "\n",
       "    .dataframe thead th {\n",
       "        text-align: right;\n",
       "    }\n",
       "</style>\n",
       "<table border=\"1\" class=\"dataframe\">\n",
       "  <thead>\n",
       "    <tr style=\"text-align: right;\">\n",
       "      <th></th>\n",
       "      <th>Christmas Market</th>\n",
       "      <th>Pharmacy</th>\n",
       "      <th>Bismarkplatz</th>\n",
       "      <th>Schwarzer Peter</th>\n",
       "      <th>Marstall</th>\n",
       "      <th>Zuckerladen</th>\n",
       "    </tr>\n",
       "  </thead>\n",
       "  <tbody>\n",
       "    <tr>\n",
       "      <th>Christmas Market</th>\n",
       "      <td>0.00</td>\n",
       "      <td>345.77</td>\n",
       "      <td>1014.06</td>\n",
       "      <td>1839.72</td>\n",
       "      <td>406.19</td>\n",
       "      <td>570.61</td>\n",
       "    </tr>\n",
       "    <tr>\n",
       "      <th>Pharmacy</th>\n",
       "      <td>345.77</td>\n",
       "      <td>0.00</td>\n",
       "      <td>668.30</td>\n",
       "      <td>1502.28</td>\n",
       "      <td>165.83</td>\n",
       "      <td>252.74</td>\n",
       "    </tr>\n",
       "    <tr>\n",
       "      <th>Bismarkplatz</th>\n",
       "      <td>1014.06</td>\n",
       "      <td>668.30</td>\n",
       "      <td>0.00</td>\n",
       "      <td>835.54</td>\n",
       "      <td>800.05</td>\n",
       "      <td>629.67</td>\n",
       "    </tr>\n",
       "    <tr>\n",
       "      <th>Schwarzer Peter</th>\n",
       "      <td>1839.72</td>\n",
       "      <td>1502.28</td>\n",
       "      <td>835.54</td>\n",
       "      <td>0.00</td>\n",
       "      <td>1605.88</td>\n",
       "      <td>1269.59</td>\n",
       "    </tr>\n",
       "    <tr>\n",
       "      <th>Marstall</th>\n",
       "      <td>406.19</td>\n",
       "      <td>165.83</td>\n",
       "      <td>800.05</td>\n",
       "      <td>1605.88</td>\n",
       "      <td>0.00</td>\n",
       "      <td>411.07</td>\n",
       "    </tr>\n",
       "    <tr>\n",
       "      <th>Zuckerladen</th>\n",
       "      <td>570.61</td>\n",
       "      <td>252.74</td>\n",
       "      <td>629.67</td>\n",
       "      <td>1269.59</td>\n",
       "      <td>411.07</td>\n",
       "      <td>0.00</td>\n",
       "    </tr>\n",
       "  </tbody>\n",
       "</table>\n",
       "</div>"
      ],
      "text/plain": [
       "                  Christmas Market  Pharmacy  Bismarkplatz  Schwarzer Peter  \\\n",
       "Christmas Market              0.00    345.77       1014.06          1839.72   \n",
       "Pharmacy                    345.77      0.00        668.30          1502.28   \n",
       "Bismarkplatz               1014.06    668.30          0.00           835.54   \n",
       "Schwarzer Peter            1839.72   1502.28        835.54             0.00   \n",
       "Marstall                    406.19    165.83        800.05          1605.88   \n",
       "Zuckerladen                 570.61    252.74        629.67          1269.59   \n",
       "\n",
       "                  Marstall  Zuckerladen  \n",
       "Christmas Market    406.19       570.61  \n",
       "Pharmacy            165.83       252.74  \n",
       "Bismarkplatz        800.05       629.67  \n",
       "Schwarzer Peter    1605.88      1269.59  \n",
       "Marstall              0.00       411.07  \n",
       "Zuckerladen         411.07         0.00  "
      ]
     },
     "execution_count": 13,
     "metadata": {},
     "output_type": "execute_result"
    }
   ],
   "source": [
    "import pandas as pd\n",
    "# Stored data from stops_matrix in dataframe object\n",
    "stop_names = [st['name'] for st in stops]\n",
    "stops_dataframe = pd.DataFrame(stops_matrix['durations'], columns=stop_names, index=stop_names)\n",
    "# Print the data frame\n",
    "stops_dataframe"
   ]
  },
  {
   "cell_type": "markdown",
   "metadata": {},
   "source": [
    "The code below identifies the optimal order of stops. Don't look at it in too much detail. It's not necessary to understand all of it \n"
   ]
  },
  {
   "cell_type": "code",
   "execution_count": 14,
   "metadata": {
    "scrolled": true
   },
   "outputs": [
    {
     "name": "stdout",
     "output_type": "stream",
     "text": [
      "Total duration: 65.11666666666666 minutes\n",
      "\n",
      "Route:\n",
      "Christmas Market -> Marstall -> Bismarkplatz -> Schwarzer Peter -> Zuckerladen -> Pharmacy -> Christmas Market\n"
     ]
    }
   ],
   "source": [
    "def getDistance(from_id, to_id):\n",
    "    return int(stops_matrix['durations'][from_id][to_id])\n",
    "\n",
    "tsp_size = len(stop_names)\n",
    "num_routes = 1\n",
    "start = 0 # arbitrary start location\n",
    "\n",
    "optimal_coords = []\n",
    "\n",
    "if tsp_size > 0:\n",
    "    routing = pywrapcp.RoutingModel(tsp_size, num_routes, start)\n",
    "    search_parameters = pywrapcp.RoutingModel.DefaultSearchParameters()\n",
    "    # Create the distance callback, which takes two arguments (the from and to node indices)\n",
    "    # and returns the distance between these nodes.\n",
    "    routing.SetArcCostEvaluatorOfAllVehicles(getDistance)\n",
    "    # Solve, returns a solution if any.\n",
    "    assignment = routing.SolveWithParameters(search_parameters)\n",
    "    if assignment:\n",
    "        # Total cost of the 'optimal' solution.\n",
    "        print(\"Total duration: \" + str(round(assignment.ObjectiveValue(), 3) / 60) + \" minutes\\n\")\n",
    "        index = routing.Start(start) # Index of the variable for the starting node.\n",
    "        route = ''\n",
    "        # while not routing.IsEnd(index):\n",
    "        for node in range(routing.nodes()):\n",
    "            optimal_coords.append(stop_coords[routing.IndexToNode(index)])\n",
    "            route += str(stop_names[routing.IndexToNode(index)]) + ' -> '\n",
    "            index = assignment.Value(routing.NextVar(index))\n",
    "        route += str(stop_names[routing.IndexToNode(index)])\n",
    "        optimal_coords.append(stop_coords[routing.IndexToNode(index)])\n",
    "        print(\"Route:\\n\" + route)"
   ]
  },
  {
   "cell_type": "markdown",
   "metadata": {},
   "source": [
    "### 3.2 Calculate route between stops\n",
    "Now that we have the optimal order of stops, we only need to find a route connecting them. To see how much time we saved, we will compare it to the route which a random order of stops. "
   ]
  },
  {
   "cell_type": "markdown",
   "metadata": {},
   "source": [
    "Calculate the random route "
   ]
  },
  {
   "cell_type": "code",
   "execution_count": 15,
   "metadata": {},
   "outputs": [],
   "source": [
    "stop_coords.append(stop_coords[0])"
   ]
  },
  {
   "cell_type": "code",
   "execution_count": 16,
   "metadata": {},
   "outputs": [],
   "source": [
    "request = {'coordinates': stop_coords,\n",
    "           'profile': profile,\n",
    "           'geometry': 'true',\n",
    "           'format_out': 'geojson',\n",
    "          }\n",
    "random_route = ORSclient.directions(**request)"
   ]
  },
  {
   "cell_type": "markdown",
   "metadata": {},
   "source": [
    "Calculate the optimal route. "
   ]
  },
  {
   "cell_type": "code",
   "execution_count": 17,
   "metadata": {},
   "outputs": [],
   "source": [
    "# Replace the coordinates in the request by the coordinates with the optimal order of stops\n",
    "request['coordinates'] = optimal_coords\n",
    "optimal_route = ORSclient.directions(**request)"
   ]
  },
  {
   "cell_type": "markdown",
   "metadata": {},
   "source": [
    "Now, let's visualize everything in a map."
   ]
  },
  {
   "cell_type": "code",
   "execution_count": 18,
   "metadata": {
    "scrolled": false
   },
   "outputs": [
    {
     "data": {
      "text/html": [
       "<div style=\"width:100%;\"><div style=\"position:relative;width:100%;height:0;padding-bottom:60%;\"><iframe src=\"data:text/html;charset=utf-8;base64,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\" style=\"position:absolute;width:100%;height:100%;left:0;top:0;border:none !important;\" allowfullscreen webkitallowfullscreen mozallowfullscreen></iframe></div></div>"
      ],
      "text/plain": [
       "<folium.folium.Map at 0x1221da0b8>"
      ]
     },
     "execution_count": 18,
     "metadata": {},
     "output_type": "execute_result"
    }
   ],
   "source": [
    "# Create map object\n",
    "mapHD = folium.Map(tiles='Stamen Toner',location=(centerOfMap.y, centerOfMap.x), zoom_start=14)\n",
    "\n",
    "# Just a function to style the routes on the map\n",
    "def style_function(color):\n",
    "    return lambda feature: dict(color=color,\n",
    "                              weight=3,\n",
    "                              opacity=1)\n",
    "\n",
    "# Add random route to map\n",
    "folium.features.GeoJson(data=random_route,\n",
    "                        name='Random Route',\n",
    "                        style_function=style_function('#84e184'),\n",
    "                       overlay=True).add_to(mapHD)\n",
    "\n",
    "# Add optimal route to map\n",
    "folium.features.GeoJson(data=optimal_route,\n",
    "                        name='Optimal Route',\n",
    "                        style_function=style_function('#6666ff'),\n",
    "                       overlay=True).add_to(mapHD)\n",
    "\n",
    "# Add markers for each stop to map\n",
    "stopMarkers = []\n",
    "for stop in stops:\n",
    "    lon, lat = stop['coordinates']\n",
    "    name = stop['name']\n",
    "    popup = \"<strong>{0}</strong><br>Lat: {1:.3f}<br>Long: {2:.3f}\".format(name, lat, lon)\n",
    "    icon = folium.map.Icon(color='lightgray',\n",
    "                        icon_color='#b5231a',\n",
    "                        icon='star', # fetches font-awesome.io symbols\n",
    "                        prefix='fa')\n",
    "    folium.map.Marker([lat, lon], icon=icon, popup=popup).add_to(mapHD)\n",
    "    stopMarkers.append(name)\n",
    "\n",
    "# Add the layer control so you can toggle the routes on and off\n",
    "mapHD.add_child(folium.LayerControl())\n",
    "# Display the map\n",
    "mapHD"
   ]
  },
  {
   "cell_type": "markdown",
   "metadata": {},
   "source": [
    "Let's calculate how much time we save, if we optimize our Christmas shopping route."
   ]
  },
  {
   "cell_type": "code",
   "execution_count": 19,
   "metadata": {
    "scrolled": true
   },
   "outputs": [
    {
     "name": "stdout",
     "output_type": "stream",
     "text": [
      "Duration optimal route: 65.167 mins\n",
      "Duration random route: 73.955 mins\n"
     ]
    }
   ],
   "source": [
    "optimal_duration = optimal_route['features'][0]['properties']['summary'][0]['duration'] / 60\n",
    "random_duration = random_route['features'][0]['properties']['summary'][0]['duration'] / 60 \n",
    "print(\"Duration optimal route: {0:.3f} mins\\nDuration random route: {1:.3f} mins\".format(optimal_duration,\n",
    "                                                                                         random_duration))"
   ]
  },
  {
   "cell_type": "markdown",
   "metadata": {},
   "source": [
    "## 4. Export the optimal route to a geojson file\n",
    "The last step is to export the route to a geojson file. Make sure to adapt the path of the output file to your computer. "
   ]
  },
  {
   "cell_type": "code",
   "execution_count": 20,
   "metadata": {},
   "outputs": [
    {
     "ename": "FileNotFoundError",
     "evalue": "[Errno 2] No such file or directory: '\\\\\\\\netfilec.ad.uni-heidelberg.de\\\\home\\\\n\\\\nb152\\\\data\\\\temp/optimalRoute.geojson'",
     "output_type": "error",
     "traceback": [
      "\u001b[0;31m---------------------------------------------------------------------------\u001b[0m",
      "\u001b[0;31mFileNotFoundError\u001b[0m                         Traceback (most recent call last)",
      "\u001b[0;32m<ipython-input-20-9b74ab7a19b1>\u001b[0m in \u001b[0;36m<module>\u001b[0;34m\u001b[0m\n\u001b[1;32m      1\u001b[0m \u001b[0;32mimport\u001b[0m \u001b[0mjson\u001b[0m\u001b[0;34m\u001b[0m\u001b[0;34m\u001b[0m\u001b[0m\n\u001b[1;32m      2\u001b[0m \u001b[0mpath_out\u001b[0m \u001b[0;34m=\u001b[0m \u001b[0;34m\"\\\\\\\\netfilec.ad.uni-heidelberg.de\\\\home\\\\n\\\\nb152\\\\data\\\\temp/optimalRoute.geojson\"\u001b[0m\u001b[0;34m\u001b[0m\u001b[0;34m\u001b[0m\u001b[0m\n\u001b[0;32m----> 3\u001b[0;31m \u001b[0;32mwith\u001b[0m \u001b[0mopen\u001b[0m\u001b[0;34m(\u001b[0m\u001b[0mpath_out\u001b[0m\u001b[0;34m,\u001b[0m \u001b[0;34m\"w\"\u001b[0m\u001b[0;34m)\u001b[0m \u001b[0;32mas\u001b[0m \u001b[0mfp\u001b[0m\u001b[0;34m:\u001b[0m\u001b[0;34m\u001b[0m\u001b[0;34m\u001b[0m\u001b[0m\n\u001b[0m\u001b[1;32m      4\u001b[0m     \u001b[0mjson\u001b[0m\u001b[0;34m.\u001b[0m\u001b[0mdump\u001b[0m\u001b[0;34m(\u001b[0m\u001b[0moptimal_route\u001b[0m\u001b[0;34m,\u001b[0m \u001b[0mfp\u001b[0m\u001b[0;34m)\u001b[0m\u001b[0;34m\u001b[0m\u001b[0;34m\u001b[0m\u001b[0m\n",
      "\u001b[0;31mFileNotFoundError\u001b[0m: [Errno 2] No such file or directory: '\\\\\\\\netfilec.ad.uni-heidelberg.de\\\\home\\\\n\\\\nb152\\\\data\\\\temp/optimalRoute.geojson'"
     ]
    }
   ],
   "source": [
    "import json\n",
    "path_out = \"\\\\\\\\netfilec.ad.uni-heidelberg.de\\\\home\\\\n\\\\nb152\\\\data\\\\temp/optimalRoute.geojson\"\n",
    "with open(path_out, \"w\") as fp: \n",
    "    json.dump(optimal_route, fp)"
   ]
  }
 ],
 "metadata": {
  "kernelspec": {
   "display_name": "Python 3",
   "language": "python",
   "name": "python3"
  },
  "language_info": {
   "codemirror_mode": {
    "name": "ipython",
    "version": 3
   },
   "file_extension": ".py",
   "mimetype": "text/x-python",
   "name": "python",
   "nbconvert_exporter": "python",
   "pygments_lexer": "ipython3",
   "version": "3.6.7"
  }
 },
 "nbformat": 4,
 "nbformat_minor": 2
}
