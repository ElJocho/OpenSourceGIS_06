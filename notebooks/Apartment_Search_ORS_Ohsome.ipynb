{
 "cells": [
  {
   "cell_type": "markdown",
   "metadata": {},
   "source": [
    "# Apartment search using ORS and Ohsome API \n"
   ]
  },
  {
   "cell_type": "markdown",
   "metadata": {},
   "source": [
    "This notebook contains an example of how to use openrouteservice API's to create isochrones. As a case study, we will perform a search for a new appartment in Hamburg based on the surrounding amenities. "
   ]
  },
  {
   "cell_type": "code",
   "execution_count": 9,
   "metadata": {},
   "outputs": [],
   "source": [
    "import folium\n",
    "import json\n",
    "import os\n",
    "from openrouteservice import client\n",
    "import pandas as pd\n",
    "import datetime as dt\n",
    "import requests\n",
    "%matplotlib inline"
   ]
  },
  {
   "cell_type": "markdown",
   "metadata": {},
   "source": [
    "In order to use the OpenRouteSerive API, you need to create and account and a API key. After you've done that, paste your personal API key below."
   ]
  },
  {
   "cell_type": "code",
   "execution_count": 2,
   "metadata": {},
   "outputs": [],
   "source": [
    "api_key = '5b3ce3597851110001cf62483ae5cf98ae4743649600ff877943b339' #Provide your personal API key\n",
    "myClient = client.Client(key=api_key) "
   ]
  },
  {
   "cell_type": "markdown",
   "metadata": {},
   "source": [
    "Let's start with the apartment hunt. There are three potential appartments. We will create ischonres around each one."
   ]
  },
  {
   "cell_type": "markdown",
   "metadata": {},
   "source": [
    "## Create a list of potential apartments\n",
    "First, we store the locations of the three potential appartments in a dictionary."
   ]
  },
  {
   "cell_type": "code",
   "execution_count": 3,
   "metadata": {},
   "outputs": [],
   "source": [
    "# Set up the apartment dictionary with real coordinates\n",
    "apartments = {'first_apartment': {'location': [9.981727, 53.552018]},\n",
    "            'second_apartment': {'location': [9.921727, 53.552018]},\n",
    "            'third_apartment': {'location': [9.981727, 53.572018]}\n",
    "           }"
   ]
  },
  {
   "cell_type": "markdown",
   "metadata": {},
   "source": [
    "## Create isochrones around appartments using the Open Route Service API"
   ]
  },
  {
   "cell_type": "markdown",
   "metadata": {},
   "source": [
    "Then, we will request the isochrones around each apartment and visualize them in the map. For details about the parameters see the [ORS documentation](https://openrouteservice.org/dev/#/api-docs/isochrones). If you want to export the isochrones to a geojson file, you have to adapt the variable `path_out` to point to a directory on your computer. Play around with the settings to find out what each variable is for."
   ]
  },
  {
   "cell_type": "code",
   "execution_count": 4,
   "metadata": {},
   "outputs": [
    {
     "data": {
      "text/html": [
       "<div style=\"width:100%;\"><div style=\"position:relative;width:100%;height:0;padding-bottom:60%;\"><iframe src=\"data:text/html;charset=utf-8;base64,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\" style=\"position:absolute;width:100%;height:100%;left:0;top:0;border:none !important;\" allowfullscreen webkitallowfullscreen mozallowfullscreen></iframe></div></div>"
      ],
      "text/plain": [
       "<folium.folium.Map at 0x190ef8b8978>"
      ]
     },
     "execution_count": 4,
     "metadata": {},
     "output_type": "execute_result"
    }
   ],
   "source": [
    "# Settings for isochrones\n",
    "# ORS routing profile\n",
    "profile = 'foot-walking'\n",
    "# Type of isochones: time or distance\n",
    "range_type = 'time'\n",
    "# Intervals of isochrones\n",
    "intervals = [500] # in seconds (if range_type=time) or meters (if range_type=distance)\n",
    "# If this variable is True, the isochorones are exported into a geojson file \n",
    "export_isochrones_to_file = False\n",
    "# Path to the folder where the files containgin the isochrones should be stored\n",
    "path_out = '/Users/chludwig/Data/temp/'\n",
    "\n",
    "\n",
    "# Store parameters of the isochrones request in a python dictionary \n",
    "params_iso = {'profile': profile,\n",
    "              'intervals': intervals, # 900/60 = 15 mins\n",
    "              'segments': intervals[0],\n",
    "              'range_type': range_type,\n",
    "              'attributes': ['area'] # Get area of each isochrone\n",
    "             }\n",
    "\n",
    "# Defines the style of the isochrones shown in the map\n",
    "style_function = lambda x: {'weight': 1}\n",
    "\n",
    "# Create map object\n",
    "mapSF = folium.Map(tiles='Stamen Toner', location=([53.552018, 9.981727]), zoom_start=12)\n",
    "\n",
    "# Iterate over all appartments and request isochrones for each one and add them to the map\n",
    "for name, apt in apartments.items():\n",
    "    # Add apartment coords to request parameters\n",
    "    params_iso['locations'] = apt['location'] \n",
    "    # Perform isochrone request\n",
    "    apt['iso'] = myClient.isochrones(**params_iso) \n",
    "    # Add resulting isochrones to the map\n",
    "    folium.features.GeoJson(apt['iso'], style_function=style_function, name='Isochrones of ' + name).add_to(mapSF) \n",
    "    # Add icon at the location of the appartment\n",
    "    folium.map.Marker(list(reversed(apt['location'])), # reverse coords due to weird folium lat/lon syntax\n",
    "                      icon=folium.Icon(color='lightgray',\n",
    "                                        icon_color='#cc0000',\n",
    "                                        icon='home',\n",
    "                                        prefix='fa',\n",
    "                                       ),\n",
    "                      popup=name,\n",
    "                 ).add_to(mapSF)\n",
    "    # Export to file \n",
    "    if export_isochrones_to_file:\n",
    "        with open(os.path.join(path_out, 'isochrones_' + name +'.geojson'), \"w\") as fp: \n",
    "            json.dump(apt['iso'], fp)\n",
    "\n",
    "# Add layer control so you can toggle layers on and off\n",
    "mapSF.add_child(folium.LayerControl())\n",
    "# display map\n",
    "mapSF"
   ]
  },
  {
   "cell_type": "markdown",
   "metadata": {},
   "source": [
    "## Number of restaurants nearby apartments using Ohsome API\n",
    "Now that we created the isochrones, we want to know how many restaurants there are in the neighbourhood. For this purpose, we will use the Ohsome API. \n",
    "\n",
    "The Ohsome API not only tells you the number of restaurants at a certain date, but also the hisotric development of a certain tag mapped in OSM. If you want the number of restaurants at a certain date, then only pass the end_date as `time': f'{end_date}'` to the `data object`. If you are intereseted in the historic development of this tag, then pass `'time': f'{start_date}/{end_date}/{time_interval}'`. Just remove or add the comment sign '#' to switch between the two settings. \n",
    "\n",
    "Play around with the parameters and compare the results to get a familiar with them. Refer to the [Ohsome Documentation for Data Aggregation](https://api.ohsome.org/v0.9-ignite-germany/swagger-ui.html?urls.primaryName=dataAggregation#/elementsCount) for information about the usage of the parameters."
   ]
  },
  {
   "cell_type": "code",
   "execution_count": 5,
   "metadata": {
    "scrolled": true
   },
   "outputs": [],
   "source": [
    "df = pd.DataFrame(columns=['timestamp'] + list(apartments.keys()))"
   ]
  },
  {
   "cell_type": "code",
   "execution_count": 6,
   "metadata": {
    "scrolled": true
   },
   "outputs": [],
   "source": [
    "#Define temporal filter, make sure to use ISO-8601 conform timestrings\n",
    "start_date = '2008-01-01'\n",
    "end_date = '2018-04-01' # should not be after 2018-08-01\n",
    "time_interval = 'P1M' # Yearly interval, for monthly interval use P1M, for two montly interval use P2M \n",
    "keys = \"amenity\"\n",
    "values = \"pub\"\n",
    "\n",
    "for name, apt in apartments.items():\n",
    "    \n",
    "    #Specified data to be sent to the ohsome API\n",
    "    data = {'bpolys': json.dumps(apt['iso']),\n",
    "            'keys': keys,\n",
    "            'values': values,\n",
    "            'time': f'{start_date}/{end_date}/{time_interval}',\n",
    "            #'time': f'{end_date}',\n",
    "            'showMetadata': 'true'}\n",
    "\n",
    "    #Send  post request to ohsome api and save response\n",
    "    count_ohsome_endpoint = 'https://api.ohsome.org/v0.9-ignite-germany/elements/count/'\n",
    "    count = requests.post(count_ohsome_endpoint, data=data).json()\n",
    "    apt['count'] = count['result']\n",
    "    \n",
    "    df[name] = pd.DataFrame(count['result'])['value']\n",
    "\n",
    "df.timestamp = pd.to_datetime(pd.DataFrame(count['result'])['timestamp'], format='%Y-%m-%dT%H:%M:%SZ')\n",
    "#df.set_index(\"timestamp\")"
   ]
  },
  {
   "cell_type": "markdown",
   "metadata": {},
   "source": [
    "Let's look at the result. `df.head()` will only show the first five timestamps. `df` will show the whole data frame."
   ]
  },
  {
   "cell_type": "code",
   "execution_count": 7,
   "metadata": {
    "scrolled": true
   },
   "outputs": [
    {
     "data": {
      "text/html": [
       "<div>\n",
       "<style scoped>\n",
       "    .dataframe tbody tr th:only-of-type {\n",
       "        vertical-align: middle;\n",
       "    }\n",
       "\n",
       "    .dataframe tbody tr th {\n",
       "        vertical-align: top;\n",
       "    }\n",
       "\n",
       "    .dataframe thead th {\n",
       "        text-align: right;\n",
       "    }\n",
       "</style>\n",
       "<table border=\"1\" class=\"dataframe\">\n",
       "  <thead>\n",
       "    <tr style=\"text-align: right;\">\n",
       "      <th></th>\n",
       "      <th>timestamp</th>\n",
       "      <th>first_apartment</th>\n",
       "      <th>second_apartment</th>\n",
       "      <th>third_apartment</th>\n",
       "    </tr>\n",
       "  </thead>\n",
       "  <tbody>\n",
       "    <tr>\n",
       "      <th>0</th>\n",
       "      <td>2008-01-01</td>\n",
       "      <td>0.0</td>\n",
       "      <td>0.0</td>\n",
       "      <td>0.0</td>\n",
       "    </tr>\n",
       "    <tr>\n",
       "      <th>1</th>\n",
       "      <td>2008-02-01</td>\n",
       "      <td>0.0</td>\n",
       "      <td>0.0</td>\n",
       "      <td>0.0</td>\n",
       "    </tr>\n",
       "    <tr>\n",
       "      <th>2</th>\n",
       "      <td>2008-03-01</td>\n",
       "      <td>0.0</td>\n",
       "      <td>0.0</td>\n",
       "      <td>0.0</td>\n",
       "    </tr>\n",
       "    <tr>\n",
       "      <th>3</th>\n",
       "      <td>2008-04-01</td>\n",
       "      <td>0.0</td>\n",
       "      <td>0.0</td>\n",
       "      <td>0.0</td>\n",
       "    </tr>\n",
       "    <tr>\n",
       "      <th>4</th>\n",
       "      <td>2008-05-01</td>\n",
       "      <td>1.0</td>\n",
       "      <td>0.0</td>\n",
       "      <td>0.0</td>\n",
       "    </tr>\n",
       "  </tbody>\n",
       "</table>\n",
       "</div>"
      ],
      "text/plain": [
       "   timestamp  first_apartment  second_apartment  third_apartment\n",
       "0 2008-01-01              0.0               0.0              0.0\n",
       "1 2008-02-01              0.0               0.0              0.0\n",
       "2 2008-03-01              0.0               0.0              0.0\n",
       "3 2008-04-01              0.0               0.0              0.0\n",
       "4 2008-05-01              1.0               0.0              0.0"
      ]
     },
     "execution_count": 7,
     "metadata": {},
     "output_type": "execute_result"
    }
   ],
   "source": [
    "# First 5 rows (timestamps) of data frame\n",
    "df.head()\n",
    "# Whole data frame\n",
    "#df"
   ]
  },
  {
   "cell_type": "markdown",
   "metadata": {},
   "source": [
    "If you queried a time period and not just a single date, then we can visualize the development in a plot."
   ]
  },
  {
   "cell_type": "code",
   "execution_count": 11,
   "metadata": {},
   "outputs": [
    {
     "data": {
      "text/plain": [
       "<matplotlib.axes._subplots.AxesSubplot at 0x190f0b4f668>"
      ]
     },
     "execution_count": 11,
     "metadata": {},
     "output_type": "execute_result"
    },
    {
     "data": {
      "image/png": "[encoded data removed]",
      "text/plain": [
       "<Figure size 1008x576 with 1 Axes>"
      ]
     },
     "metadata": {
      "needs_background": "light"
     },
     "output_type": "display_data"
    }
   ],
   "source": [
    "df.plot(x=\"timestamp\", y=df.columns[1:4], figsize=(14,8), title=\"Number of elements with keys:{} and values:{}\".format(keys,values))"
   ]
  },
  {
   "cell_type": "code",
   "execution_count": null,
   "metadata": {},
   "outputs": [],
   "source": []
  }
 ],
 "metadata": {
  "kernelspec": {
   "display_name": "Python 3",
   "language": "python",
   "name": "python3"
  },
  "language_info": {
   "codemirror_mode": {
    "name": "ipython",
    "version": 3
   },
   "file_extension": ".py",
   "mimetype": "text/x-python",
   "name": "python",
   "nbconvert_exporter": "python",
   "pygments_lexer": "ipython3",
   "version": "3.6.7"
  }
 },
 "nbformat": 4,
 "nbformat_minor": 2
}
