{
 "cells": [
  {
   "cell_type": "markdown",
   "metadata": {},
   "source": [
    "# Analysing OSM history using Ohsome"
   ]
  },
  {
   "cell_type": "markdown",
   "metadata": {},
   "source": [
    "This notebook contains a simple example of an OHSOME request. In order to send a request to the server from within python, we need the requests package.  "
   ]
  },
  {
   "cell_type": "code",
   "execution_count": 1,
   "metadata": {},
   "outputs": [],
   "source": [
    "import requests\n",
    "import pandas as pd\n",
    "import datetime as dt\n",
    "%matplotlib inline "
   ]
  },
  {
   "cell_type": "markdown",
   "metadata": {},
   "source": [
    "This is the url that we will send our queries to."
   ]
  },
  {
   "cell_type": "code",
   "execution_count": 2,
   "metadata": {},
   "outputs": [],
   "source": [
    "ohsome_url = 'https://api.ohsome.org/v0.9-ignite-germany/'"
   ]
  },
  {
   "cell_type": "markdown",
   "metadata": {},
   "source": [
    "New we need to specify our query. Refer to the [Ohsome Documentation for Data Aggregation](https://api.ohsome.org/v0.9-ignite-germany/swagger-ui.html?urls.primaryName=dataAggregation#/elementsCount) to find the right query type and parameters.\n",
    "\n",
    "In this example, we would like to get the count of restaurants within an area of interest. Therefore, we append `elements/count/` to the url. Make sure not to omit a slash."
   ]
  },
  {
   "cell_type": "code",
   "execution_count": 3,
   "metadata": {},
   "outputs": [
    {
     "data": {
      "text/plain": [
       "'https://api.ohsome.org/v0.9-ignite-germany/elements/count/'"
      ]
     },
     "execution_count": 3,
     "metadata": {},
     "output_type": "execute_result"
    }
   ],
   "source": [
    "count_ohsome_endpoint = ohsome_url + 'elements/count/'\n",
    "count_ohsome_endpoint"
   ]
  },
  {
   "cell_type": "markdown",
   "metadata": {},
   "source": [
    "Then, we define some parameters of our query and store them all in a dictionary. "
   ]
  },
  {
   "cell_type": "code",
   "execution_count": 4,
   "metadata": {},
   "outputs": [],
   "source": [
    "start_date = '2008-10-01'\n",
    "end_date = '2018-08-01' # should not be after 2018-08-01\n",
    "time_interval = 'P1M'  # Yearly interval, for monthly interval use P1M, for two montly interval use P2M\n",
    "keys = \"amenity\"\n",
    "values = \"restaurant\"\n",
    "types= ['way', 'node']\n",
    "boundingBox = \"8.8057, 53.0713, 8.8306, 53.0848\""
   ]
  },
  {
   "cell_type": "code",
   "execution_count": 5,
   "metadata": {},
   "outputs": [],
   "source": [
    "data = {'bboxes': boundingBox,\n",
    "        'keys': keys,\n",
    "        'values': values,\n",
    "        'types' : \",\".join(types),\n",
    "        'time': f'{start_date}/{end_date}/{time_interval}',\n",
    "        #'time': f'{end_date}',\n",
    "        'showMetadata': 'true'}"
   ]
  },
  {
   "cell_type": "markdown",
   "metadata": {},
   "source": [
    "Now we are ready to send our query to the ohsome server."
   ]
  },
  {
   "cell_type": "code",
   "execution_count": 6,
   "metadata": {},
   "outputs": [],
   "source": [
    "ohsomeResponse = requests.post(count_ohsome_endpoint, data=data).json()"
   ]
  },
  {
   "cell_type": "markdown",
   "metadata": {},
   "source": [
    "Let's look at the result."
   ]
  },
  {
   "cell_type": "code",
   "execution_count": 7,
   "metadata": {
    "scrolled": false
   },
   "outputs": [
    {
     "data": {
      "text/plain": [
       "dict"
      ]
     },
     "execution_count": 7,
     "metadata": {},
     "output_type": "execute_result"
    }
   ],
   "source": [
    "type(ohsomeResponse)"
   ]
  },
  {
   "cell_type": "code",
   "execution_count": 8,
   "metadata": {},
   "outputs": [
    {
     "data": {
      "text/plain": [
       "{'attribution': {'url': 'https://ohsome.org/copyrights',\n",
       "  'text': '© OpenStreetMap contributors'},\n",
       " 'apiVersion': '0.9',\n",
       " 'metadata': {'executionTime': 646,\n",
       "  'description': 'Total count of items in absolute values.'},\n",
       " 'result': [{'timestamp': '2008-10-01T00:00:00Z', 'value': 31.0},\n",
       "  {'timestamp': '2008-11-01T00:00:00Z', 'value': 31.0},\n",
       "  {'timestamp': '2008-12-01T00:00:00Z', 'value': 31.0},\n",
       "  {'timestamp': '2009-01-01T00:00:00Z', 'value': 31.0},\n",
       "  {'timestamp': '2009-02-01T00:00:00Z', 'value': 31.0},\n",
       "  {'timestamp': '2009-03-01T00:00:00Z', 'value': 31.0},\n",
       "  {'timestamp': '2009-04-01T00:00:00Z', 'value': 33.0},\n",
       "  {'timestamp': '2009-05-01T00:00:00Z', 'value': 32.0},\n",
       "  {'timestamp': '2009-06-01T00:00:00Z', 'value': 32.0},\n",
       "  {'timestamp': '2009-07-01T00:00:00Z', 'value': 33.0},\n",
       "  {'timestamp': '2009-08-01T00:00:00Z', 'value': 34.0},\n",
       "  {'timestamp': '2009-09-01T00:00:00Z', 'value': 34.0},\n",
       "  {'timestamp': '2009-10-01T00:00:00Z', 'value': 34.0},\n",
       "  {'timestamp': '2009-11-01T00:00:00Z', 'value': 37.0},\n",
       "  {'timestamp': '2009-12-01T00:00:00Z', 'value': 38.0},\n",
       "  {'timestamp': '2010-01-01T00:00:00Z', 'value': 37.0},\n",
       "  {'timestamp': '2010-02-01T00:00:00Z', 'value': 38.0},\n",
       "  {'timestamp': '2010-03-01T00:00:00Z', 'value': 38.0},\n",
       "  {'timestamp': '2010-04-01T00:00:00Z', 'value': 39.0},\n",
       "  {'timestamp': '2010-05-01T00:00:00Z', 'value': 42.0},\n",
       "  {'timestamp': '2010-06-01T00:00:00Z', 'value': 47.0},\n",
       "  {'timestamp': '2010-07-01T00:00:00Z', 'value': 49.0},\n",
       "  {'timestamp': '2010-08-01T00:00:00Z', 'value': 52.0},\n",
       "  {'timestamp': '2010-09-01T00:00:00Z', 'value': 53.0},\n",
       "  {'timestamp': '2010-10-01T00:00:00Z', 'value': 53.0},\n",
       "  {'timestamp': '2010-11-01T00:00:00Z', 'value': 54.0},\n",
       "  {'timestamp': '2010-12-01T00:00:00Z', 'value': 56.0},\n",
       "  {'timestamp': '2011-01-01T00:00:00Z', 'value': 57.0},\n",
       "  {'timestamp': '2011-02-01T00:00:00Z', 'value': 58.0},\n",
       "  {'timestamp': '2011-03-01T00:00:00Z', 'value': 58.0},\n",
       "  {'timestamp': '2011-04-01T00:00:00Z', 'value': 58.0},\n",
       "  {'timestamp': '2011-05-01T00:00:00Z', 'value': 58.0},\n",
       "  {'timestamp': '2011-06-01T00:00:00Z', 'value': 58.0},\n",
       "  {'timestamp': '2011-07-01T00:00:00Z', 'value': 59.0},\n",
       "  {'timestamp': '2011-08-01T00:00:00Z', 'value': 59.0},\n",
       "  {'timestamp': '2011-09-01T00:00:00Z', 'value': 60.0},\n",
       "  {'timestamp': '2011-10-01T00:00:00Z', 'value': 61.0},\n",
       "  {'timestamp': '2011-11-01T00:00:00Z', 'value': 61.0},\n",
       "  {'timestamp': '2011-12-01T00:00:00Z', 'value': 61.0},\n",
       "  {'timestamp': '2012-01-01T00:00:00Z', 'value': 62.0},\n",
       "  {'timestamp': '2012-02-01T00:00:00Z', 'value': 62.0},\n",
       "  {'timestamp': '2012-03-01T00:00:00Z', 'value': 62.0},\n",
       "  {'timestamp': '2012-04-01T00:00:00Z', 'value': 62.0},\n",
       "  {'timestamp': '2012-05-01T00:00:00Z', 'value': 62.0},\n",
       "  {'timestamp': '2012-06-01T00:00:00Z', 'value': 63.0},\n",
       "  {'timestamp': '2012-07-01T00:00:00Z', 'value': 62.0},\n",
       "  {'timestamp': '2012-08-01T00:00:00Z', 'value': 60.0},\n",
       "  {'timestamp': '2012-09-01T00:00:00Z', 'value': 60.0},\n",
       "  {'timestamp': '2012-10-01T00:00:00Z', 'value': 64.0},\n",
       "  {'timestamp': '2012-11-01T00:00:00Z', 'value': 65.0},\n",
       "  {'timestamp': '2012-12-01T00:00:00Z', 'value': 67.0},\n",
       "  {'timestamp': '2013-01-01T00:00:00Z', 'value': 67.0},\n",
       "  {'timestamp': '2013-02-01T00:00:00Z', 'value': 68.0},\n",
       "  {'timestamp': '2013-03-01T00:00:00Z', 'value': 69.0},\n",
       "  {'timestamp': '2013-04-01T00:00:00Z', 'value': 72.0},\n",
       "  {'timestamp': '2013-05-01T00:00:00Z', 'value': 74.0},\n",
       "  {'timestamp': '2013-06-01T00:00:00Z', 'value': 74.0},\n",
       "  {'timestamp': '2013-07-01T00:00:00Z', 'value': 71.0},\n",
       "  {'timestamp': '2013-08-01T00:00:00Z', 'value': 71.0},\n",
       "  {'timestamp': '2013-09-01T00:00:00Z', 'value': 69.0},\n",
       "  {'timestamp': '2013-10-01T00:00:00Z', 'value': 74.0},\n",
       "  {'timestamp': '2013-11-01T00:00:00Z', 'value': 75.0},\n",
       "  {'timestamp': '2013-12-01T00:00:00Z', 'value': 79.0},\n",
       "  {'timestamp': '2014-01-01T00:00:00Z', 'value': 80.0},\n",
       "  {'timestamp': '2014-02-01T00:00:00Z', 'value': 84.0},\n",
       "  {'timestamp': '2014-03-01T00:00:00Z', 'value': 84.0},\n",
       "  {'timestamp': '2014-04-01T00:00:00Z', 'value': 89.0},\n",
       "  {'timestamp': '2014-05-01T00:00:00Z', 'value': 89.0},\n",
       "  {'timestamp': '2014-06-01T00:00:00Z', 'value': 93.0},\n",
       "  {'timestamp': '2014-07-01T00:00:00Z', 'value': 92.0},\n",
       "  {'timestamp': '2014-08-01T00:00:00Z', 'value': 92.0},\n",
       "  {'timestamp': '2014-09-01T00:00:00Z', 'value': 92.0},\n",
       "  {'timestamp': '2014-10-01T00:00:00Z', 'value': 92.0},\n",
       "  {'timestamp': '2014-11-01T00:00:00Z', 'value': 94.0},\n",
       "  {'timestamp': '2014-12-01T00:00:00Z', 'value': 95.0},\n",
       "  {'timestamp': '2015-01-01T00:00:00Z', 'value': 98.0},\n",
       "  {'timestamp': '2015-02-01T00:00:00Z', 'value': 97.0},\n",
       "  {'timestamp': '2015-03-01T00:00:00Z', 'value': 97.0},\n",
       "  {'timestamp': '2015-04-01T00:00:00Z', 'value': 97.0},\n",
       "  {'timestamp': '2015-05-01T00:00:00Z', 'value': 97.0},\n",
       "  {'timestamp': '2015-06-01T00:00:00Z', 'value': 97.0},\n",
       "  {'timestamp': '2015-07-01T00:00:00Z', 'value': 98.0},\n",
       "  {'timestamp': '2015-08-01T00:00:00Z', 'value': 96.0},\n",
       "  {'timestamp': '2015-09-01T00:00:00Z', 'value': 98.0},\n",
       "  {'timestamp': '2015-10-01T00:00:00Z', 'value': 98.0},\n",
       "  {'timestamp': '2015-11-01T00:00:00Z', 'value': 101.0},\n",
       "  {'timestamp': '2015-12-01T00:00:00Z', 'value': 102.0},\n",
       "  {'timestamp': '2016-01-01T00:00:00Z', 'value': 104.0},\n",
       "  {'timestamp': '2016-02-01T00:00:00Z', 'value': 105.0},\n",
       "  {'timestamp': '2016-03-01T00:00:00Z', 'value': 107.0},\n",
       "  {'timestamp': '2016-04-01T00:00:00Z', 'value': 107.0},\n",
       "  {'timestamp': '2016-05-01T00:00:00Z', 'value': 107.0},\n",
       "  {'timestamp': '2016-06-01T00:00:00Z', 'value': 106.0},\n",
       "  {'timestamp': '2016-07-01T00:00:00Z', 'value': 105.0},\n",
       "  {'timestamp': '2016-08-01T00:00:00Z', 'value': 105.0},\n",
       "  {'timestamp': '2016-09-01T00:00:00Z', 'value': 104.0},\n",
       "  {'timestamp': '2016-10-01T00:00:00Z', 'value': 104.0},\n",
       "  {'timestamp': '2016-11-01T00:00:00Z', 'value': 105.0},\n",
       "  {'timestamp': '2016-12-01T00:00:00Z', 'value': 105.0},\n",
       "  {'timestamp': '2017-01-01T00:00:00Z', 'value': 108.0},\n",
       "  {'timestamp': '2017-02-01T00:00:00Z', 'value': 108.0},\n",
       "  {'timestamp': '2017-03-01T00:00:00Z', 'value': 110.0},\n",
       "  {'timestamp': '2017-04-01T00:00:00Z', 'value': 109.0},\n",
       "  {'timestamp': '2017-05-01T00:00:00Z', 'value': 109.0},\n",
       "  {'timestamp': '2017-06-01T00:00:00Z', 'value': 110.0},\n",
       "  {'timestamp': '2017-07-01T00:00:00Z', 'value': 110.0},\n",
       "  {'timestamp': '2017-08-01T00:00:00Z', 'value': 109.0},\n",
       "  {'timestamp': '2017-09-01T00:00:00Z', 'value': 112.0},\n",
       "  {'timestamp': '2017-10-01T00:00:00Z', 'value': 111.0},\n",
       "  {'timestamp': '2017-11-01T00:00:00Z', 'value': 112.0},\n",
       "  {'timestamp': '2017-12-01T00:00:00Z', 'value': 112.0},\n",
       "  {'timestamp': '2018-01-01T00:00:00Z', 'value': 112.0},\n",
       "  {'timestamp': '2018-02-01T00:00:00Z', 'value': 114.0},\n",
       "  {'timestamp': '2018-03-01T00:00:00Z', 'value': 115.0},\n",
       "  {'timestamp': '2018-04-01T00:00:00Z', 'value': 114.0},\n",
       "  {'timestamp': '2018-05-01T00:00:00Z', 'value': 113.0},\n",
       "  {'timestamp': '2018-06-01T00:00:00Z', 'value': 113.0},\n",
       "  {'timestamp': '2018-07-01T00:00:00Z', 'value': 113.0},\n",
       "  {'timestamp': '2018-08-01T00:00:00Z', 'value': 113.0}]}"
      ]
     },
     "execution_count": 8,
     "metadata": {},
     "output_type": "execute_result"
    }
   ],
   "source": [
    "ohsomeResponse"
   ]
  },
  {
   "cell_type": "markdown",
   "metadata": {},
   "source": [
    "As we can see, the `ohsome_result` is a dictionary. (For some information about Python dictionaries see https://www.w3schools.com/python/python_dictionaries.asp) We also notice that the result of the query which we are interested in is stored in the 'result' key of the dictionary. However, this is still not very readable and we cannot analyse the data like that. So we will store the result of the query in a dataframe using the Python package 'pandas'."
   ]
  },
  {
   "cell_type": "code",
   "execution_count": 9,
   "metadata": {
    "scrolled": false
   },
   "outputs": [
    {
     "data": {
      "text/html": [
       "<div>\n",
       "<style scoped>\n",
       "    .dataframe tbody tr th:only-of-type {\n",
       "        vertical-align: middle;\n",
       "    }\n",
       "\n",
       "    .dataframe tbody tr th {\n",
       "        vertical-align: top;\n",
       "    }\n",
       "\n",
       "    .dataframe thead th {\n",
       "        text-align: right;\n",
       "    }\n",
       "</style>\n",
       "<table border=\"1\" class=\"dataframe\">\n",
       "  <thead>\n",
       "    <tr style=\"text-align: right;\">\n",
       "      <th></th>\n",
       "      <th>timestamp</th>\n",
       "      <th>value</th>\n",
       "    </tr>\n",
       "  </thead>\n",
       "  <tbody>\n",
       "    <tr>\n",
       "      <th>0</th>\n",
       "      <td>2008-10-01</td>\n",
       "      <td>31.0</td>\n",
       "    </tr>\n",
       "    <tr>\n",
       "      <th>1</th>\n",
       "      <td>2008-11-01</td>\n",
       "      <td>31.0</td>\n",
       "    </tr>\n",
       "    <tr>\n",
       "      <th>2</th>\n",
       "      <td>2008-12-01</td>\n",
       "      <td>31.0</td>\n",
       "    </tr>\n",
       "    <tr>\n",
       "      <th>3</th>\n",
       "      <td>2009-01-01</td>\n",
       "      <td>31.0</td>\n",
       "    </tr>\n",
       "    <tr>\n",
       "      <th>4</th>\n",
       "      <td>2009-02-01</td>\n",
       "      <td>31.0</td>\n",
       "    </tr>\n",
       "  </tbody>\n",
       "</table>\n",
       "</div>"
      ],
      "text/plain": [
       "   timestamp  value\n",
       "0 2008-10-01   31.0\n",
       "1 2008-11-01   31.0\n",
       "2 2008-12-01   31.0\n",
       "3 2009-01-01   31.0\n",
       "4 2009-02-01   31.0"
      ]
     },
     "execution_count": 9,
     "metadata": {},
     "output_type": "execute_result"
    }
   ],
   "source": [
    "df = pd.DataFrame(ohsomeResponse['result'])\n",
    "df.timestamp = pd.to_datetime(df.timestamp, format='%Y-%m-%dT%H:%M:%SZ')\n",
    "df.set_index('timestamp')\n",
    "df.head() # only print first rows of data frame. \n",
    "# df  # prints the whole data frame"
   ]
  },
  {
   "cell_type": "markdown",
   "metadata": {},
   "source": [
    "Mucht better. But are the results correct? Let's verify it by passing the same query to the [Ohsome dashboard](https://ohsome.org/apps/dashboard/). We will compare the counts for January 2018. In the dashboard it says there are 112 restaurants. Let's see what our result says."
   ]
  },
  {
   "cell_type": "code",
   "execution_count": 10,
   "metadata": {
    "scrolled": true
   },
   "outputs": [
    {
     "data": {
      "text/html": [
       "<div>\n",
       "<style scoped>\n",
       "    .dataframe tbody tr th:only-of-type {\n",
       "        vertical-align: middle;\n",
       "    }\n",
       "\n",
       "    .dataframe tbody tr th {\n",
       "        vertical-align: top;\n",
       "    }\n",
       "\n",
       "    .dataframe thead th {\n",
       "        text-align: right;\n",
       "    }\n",
       "</style>\n",
       "<table border=\"1\" class=\"dataframe\">\n",
       "  <thead>\n",
       "    <tr style=\"text-align: right;\">\n",
       "      <th></th>\n",
       "      <th>timestamp</th>\n",
       "      <th>value</th>\n",
       "    </tr>\n",
       "  </thead>\n",
       "  <tbody>\n",
       "    <tr>\n",
       "      <th>84</th>\n",
       "      <td>2015-10-01</td>\n",
       "      <td>98.0</td>\n",
       "    </tr>\n",
       "  </tbody>\n",
       "</table>\n",
       "</div>"
      ],
      "text/plain": [
       "    timestamp  value\n",
       "84 2015-10-01   98.0"
      ]
     },
     "execution_count": 10,
     "metadata": {},
     "output_type": "execute_result"
    }
   ],
   "source": [
    "target_date = dt.datetime.strptime(\"2015-10-01\", \"%Y-%m-%d\")\n",
    "df[df.timestamp == target_date]"
   ]
  },
  {
   "cell_type": "markdown",
   "metadata": {},
   "source": [
    "Great! Our results match. Last step, making a nice plot."
   ]
  },
  {
   "cell_type": "code",
   "execution_count": 11,
   "metadata": {
    "scrolled": false
   },
   "outputs": [
    {
     "data": {
      "text/plain": [
       "<matplotlib.axes._subplots.AxesSubplot at 0x1fb1b78c9e8>"
      ]
     },
     "execution_count": 11,
     "metadata": {},
     "output_type": "execute_result"
    },
    {
     "data": {
      "image/png": "[encoded data removed]",
      "text/plain": [
       "<Figure size 1008x576 with 1 Axes>"
      ]
     },
     "metadata": {
      "needs_background": "light"
     },
     "output_type": "display_data"
    }
   ],
   "source": [
    "df.plot(x=\"timestamp\", y=df.columns[1], figsize=(14,8), title=\"Number of elements with keys:{} and values:{}\".format(keys,values))"
   ]
  },
  {
   "cell_type": "code",
   "execution_count": null,
   "metadata": {},
   "outputs": [],
   "source": []
  },
  {
   "cell_type": "code",
   "execution_count": null,
   "metadata": {},
   "outputs": [],
   "source": []
  }
 ],
 "metadata": {
  "kernelspec": {
   "display_name": "Python 3",
   "language": "python",
   "name": "python3"
  },
  "language_info": {
   "codemirror_mode": {
    "name": "ipython",
    "version": 3
   },
   "file_extension": ".py",
   "mimetype": "text/x-python",
   "name": "python",
   "nbconvert_exporter": "python",
   "pygments_lexer": "ipython3",
   "version": "3.6.7"
  }
 },
 "nbformat": 4,
 "nbformat_minor": 2
}
