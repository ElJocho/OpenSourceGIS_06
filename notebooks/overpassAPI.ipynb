{
 "cells": [
  {
   "cell_type": "markdown",
   "metadata": {},
   "source": [
    "# Autmatically download OSM data using Overpass API"
   ]
  },
  {
   "cell_type": "markdown",
   "metadata": {},
   "source": [
    "You already learned how to use overpass API to download specific OSM data from [overpass-turbo.eu](http://www.overpass-turbo.eu). Executing all of these queries manually is however very time consuming and prone to errors. And if you want to update your data later on, you have to do it all over again. Furtunately, there is a python package called [overpy](https://python-overpy.readthedocs.io/en/latest/) that will execute all your queries for you. "
   ]
  },
  {
   "cell_type": "code",
   "execution_count": 3,
   "metadata": {},
   "outputs": [],
   "source": [
    "import overpy"
   ]
  },
  {
   "cell_type": "markdown",
   "metadata": {},
   "source": [
    "First, we create an Overpass API query object. This object will execute all our queries."
   ]
  },
  {
   "cell_type": "code",
   "execution_count": 4,
   "metadata": {},
   "outputs": [],
   "source": [
    "api = overpy.Overpass()"
   ]
  },
  {
   "cell_type": "markdown",
   "metadata": {},
   "source": [
    "Creating a query is quiet simple. You just pass the query string that you would usually use in Overpass-turbo.eu as a parameter to the `api.query()` function. Here is an example:"
   ]
  },
  {
   "cell_type": "code",
   "execution_count": 34,
   "metadata": {},
   "outputs": [],
   "source": [
    "# fetch all ways and nodes\n",
    "result = api.query(\"\"\"\n",
    "    [out:json];way(50.746,7.154,50.748,7.157) [\"highway\"];\n",
    "    (._;>;);\n",
    "    out body;\n",
    "    \"\"\")"
   ]
  },
  {
   "cell_type": "code",
   "execution_count": 36,
   "metadata": {},
   "outputs": [
    {
     "data": {
      "text/plain": [
       "[<overpy.Node id=32346787 lat=50.7496076 lon=7.1537502>,\n",
       " <overpy.Node id=33078442 lat=50.7502243 lon=7.1528416>,\n",
       " <overpy.Node id=96133774 lat=50.7475542 lon=7.1576672>,\n",
       " <overpy.Node id=96133775 lat=50.7477321 lon=7.1570263>,\n",
       " <overpy.Node id=96133776 lat=50.7482131 lon=7.1561791>,\n",
       " <overpy.Node id=96133777 lat=50.7490889 lon=7.1545762>,\n",
       " <overpy.Node id=96133778 lat=50.7495010 lon=7.1539150>,\n",
       " <overpy.Node id=291089396 lat=50.7497999 lon=7.1534678>,\n",
       " <overpy.Node id=291089398 lat=50.7492069 lon=7.1543651>,\n",
       " <overpy.Node id=291092263 lat=50.7498473 lon=7.1533983>,\n",
       " <overpy.Node id=291435953 lat=50.7468739 lon=7.1563067>,\n",
       " <overpy.Node id=291435954 lat=50.7464770 lon=7.1561995>,\n",
       " <overpy.Node id=291435955 lat=50.7461387 lon=7.1558430>,\n",
       " <overpy.Node id=291435956 lat=50.7472215 lon=7.1556208>,\n",
       " <overpy.Node id=291435957 lat=50.7461649 lon=7.1544283>,\n",
       " <overpy.Node id=291435958 lat=50.7458948 lon=7.1545696>,\n",
       " <overpy.Node id=291435959 lat=50.7458097 lon=7.1544389>,\n",
       " <overpy.Node id=291438870 lat=50.7479888 lon=7.1563024>,\n",
       " <overpy.Node id=291438871 lat=50.7478532 lon=7.1536855>,\n",
       " <overpy.Node id=291438872 lat=50.7476659 lon=7.1540221>,\n",
       " <overpy.Node id=291438873 lat=50.7483622 lon=7.1556460>,\n",
       " <overpy.Node id=291438874 lat=50.7484293 lon=7.1557502>,\n",
       " <overpy.Node id=1212226065 lat=50.7460792 lon=7.1549437>,\n",
       " <overpy.Node id=1212226220 lat=50.7459629 lon=7.1545803>,\n",
       " <overpy.Node id=1558201806 lat=50.7465619 lon=7.1543799>,\n",
       " <overpy.Node id=1558201807 lat=50.7465604 lon=7.1545076>,\n",
       " <overpy.Node id=1558201808 lat=50.7465846 lon=7.1542726>,\n",
       " <overpy.Node id=1558201809 lat=50.7465809 lon=7.1546553>,\n",
       " <overpy.Node id=1558201810 lat=50.7466574 lon=7.1541355>,\n",
       " <overpy.Node id=1558201812 lat=50.7467513 lon=7.1574896>,\n",
       " <overpy.Node id=1558201813 lat=50.7468095 lon=7.1569205>,\n",
       " <overpy.Node id=1558201814 lat=50.7469049 lon=7.1557857>,\n",
       " <overpy.Node id=1558201815 lat=50.7469392 lon=7.1536338>,\n",
       " <overpy.Node id=1558201822 lat=50.7472406 lon=7.1543102>,\n",
       " <overpy.Node id=1558201823 lat=50.7473353 lon=7.1529626>,\n",
       " <overpy.Node id=1558201825 lat=50.7475373 lon=7.1580004>,\n",
       " <overpy.Node id=1558201826 lat=50.7476203 lon=7.1573140>,\n",
       " <overpy.Node id=1558201827 lat=50.7476720 lon=7.1571521>,\n",
       " <overpy.Node id=1558201829 lat=50.7478818 lon=7.1567514>,\n",
       " <overpy.Node id=1558201831 lat=50.7480607 lon=7.1564208>,\n",
       " <overpy.Node id=1558201832 lat=50.7482630 lon=7.1560416>,\n",
       " <overpy.Node id=1558201836 lat=50.7488308 lon=7.1550189>,\n",
       " <overpy.Node id=1579451712 lat=50.7476045 lon=7.1551590>,\n",
       " <overpy.Node id=1647008854 lat=50.7475819 lon=7.1574702>,\n",
       " <overpy.Node id=1647095991 lat=50.7479392 lon=7.1546029>,\n",
       " <overpy.Node id=1647095994 lat=50.7481815 lon=7.1551777>,\n",
       " <overpy.Node id=1647096049 lat=50.7476951 lon=7.1554212>,\n",
       " <overpy.Node id=1647096076 lat=50.7468682 lon=7.1556378>,\n",
       " <overpy.Node id=1647096079 lat=50.7469025 lon=7.1560030>,\n",
       " <overpy.Node id=1751820951 lat=50.7469115 lon=7.1558916>,\n",
       " <overpy.Node id=1751820952 lat=50.7465981 lon=7.1562371>,\n",
       " <overpy.Node id=1751820953 lat=50.7463604 lon=7.1561245>,\n",
       " <overpy.Node id=1751820954 lat=50.7462630 lon=7.1560233>,\n",
       " <overpy.Node id=1751820955 lat=50.7461938 lon=7.1559261>,\n",
       " <overpy.Node id=2580378571 lat=50.7476731 lon=7.1541218>,\n",
       " <overpy.Node id=2580378582 lat=50.7479344 lon=7.1562294>,\n",
       " <overpy.Node id=4083385469 lat=50.7475442 lon=7.1578410>,\n",
       " <overpy.Node id=4246007580 lat=50.7464877 lon=7.1536621>,\n",
       " <overpy.Node id=4246007582 lat=50.7467332 lon=7.1540005>,\n",
       " <overpy.Node id=4246007583 lat=50.7469920 lon=7.1535443>,\n",
       " <overpy.Node id=4670199082 lat=50.7456617 lon=7.1548153>,\n",
       " <overpy.Node id=4670199089 lat=50.7457882 lon=7.1552016>,\n",
       " <overpy.Node id=5633963168 lat=50.7483178 lon=7.1555896>,\n",
       " <overpy.Node id=5633963182 lat=50.7501317 lon=7.1529632>]"
      ]
     },
     "execution_count": 36,
     "metadata": {},
     "output_type": "execute_result"
    }
   ],
   "source": [
    "result.nodes"
   ]
  },
  {
   "cell_type": "markdown",
   "metadata": {},
   "source": [
    "The result of your query is stored in the variable `result`. This is an object of type [overpy.Result](https://python-overpy.readthedocs.io/en/latest/api.html#result). The documentation provides information about the different methods that this object posesses.\n",
    "\n",
    "Depending on your query, the result object will contain OSM nodes, OSM ways and/or OSM relations. Get the number of ways found in the result. The function len() gives the length of a list, so the number of items in it. "
   ]
  },
  {
   "cell_type": "code",
   "execution_count": 27,
   "metadata": {},
   "outputs": [
    {
     "data": {
      "text/plain": [
       "10"
      ]
     },
     "execution_count": 27,
     "metadata": {},
     "output_type": "execute_result"
    }
   ],
   "source": [
    "len(result.ways)"
   ]
  },
  {
   "cell_type": "markdown",
   "metadata": {},
   "source": [
    "__Exercise 1:__ Get the number of nodes and relations."
   ]
  },
  {
   "cell_type": "code",
   "execution_count": null,
   "metadata": {},
   "outputs": [],
   "source": []
  },
  {
   "cell_type": "code",
   "execution_count": 30,
   "metadata": {},
   "outputs": [
    {
     "ename": "AttributeError",
     "evalue": "'Result' object has no attribute 'parse_json'",
     "output_type": "error",
     "traceback": [
      "\u001b[0;31m---------------------------------------------------------------------------\u001b[0m",
      "\u001b[0;31mAttributeError\u001b[0m                            Traceback (most recent call last)",
      "\u001b[0;32m<ipython-input-30-986c77577df4>\u001b[0m in \u001b[0;36m<module>\u001b[0;34m\u001b[0m\n\u001b[0;32m----> 1\u001b[0;31m \u001b[0mresult\u001b[0m\u001b[0;34m.\u001b[0m\u001b[0mparse_json\u001b[0m\u001b[0;34m(\u001b[0m\u001b[0;34m)\u001b[0m\u001b[0;34m\u001b[0m\u001b[0;34m\u001b[0m\u001b[0m\n\u001b[0m",
      "\u001b[0;31mAttributeError\u001b[0m: 'Result' object has no attribute 'parse_json'"
     ]
    }
   ],
   "source": [
    "result.parse_json()"
   ]
  },
  {
   "cell_type": "markdown",
   "metadata": {},
   "source": [
    "It is also possible to get some more information about the OSM objects."
   ]
  },
  {
   "cell_type": "code",
   "execution_count": 29,
   "metadata": {},
   "outputs": [
    {
     "name": "stdout",
     "output_type": "stream",
     "text": [
      "Name: Rhedenstraße\n",
      "  Highway: residential\n",
      "  Nodes:\n",
      "    Lat: 50.746874, Lon: 7.156307\n",
      "    Lat: 50.746598, Lon: 7.156237\n",
      "    Lat: 50.746477, Lon: 7.156199\n",
      "    Lat: 50.746360, Lon: 7.156124\n",
      "    Lat: 50.746263, Lon: 7.156023\n",
      "    Lat: 50.746194, Lon: 7.155926\n",
      "    Lat: 50.746139, Lon: 7.155843\n",
      "Name: Von-Ketteler-Straße\n",
      "  Highway: residential\n",
      "  Nodes:\n",
      "    Lat: 50.746905, Lon: 7.155786\n",
      "    Lat: 50.747222, Lon: 7.155621\n",
      "Name: Mutter-Barat-Straße\n",
      "  Highway: residential\n",
      "  Nodes:\n",
      "    Lat: 50.747989, Lon: 7.156302\n",
      "    Lat: 50.747934, Lon: 7.156229\n",
      "    Lat: 50.747695, Lon: 7.155421\n",
      "    Lat: 50.747605, Lon: 7.155159\n",
      "    Lat: 50.747241, Lon: 7.154310\n",
      "    Lat: 50.746939, Lon: 7.153634\n",
      "Name: Stegerwaldstraße\n",
      "  Highway: residential\n",
      "  Nodes:\n",
      "    Lat: 50.747853, Lon: 7.153685\n",
      "    Lat: 50.747666, Lon: 7.154022\n",
      "    Lat: 50.747673, Lon: 7.154122\n",
      "    Lat: 50.747939, Lon: 7.154603\n",
      "    Lat: 50.748182, Lon: 7.155178\n",
      "    Lat: 50.748318, Lon: 7.155590\n",
      "    Lat: 50.748362, Lon: 7.155646\n",
      "Name: Alte Schulstraße\n",
      "  Highway: residential\n",
      "  Nodes:\n",
      "    Lat: 50.747537, Lon: 7.158000\n",
      "    Lat: 50.747544, Lon: 7.157841\n",
      "    Lat: 50.747554, Lon: 7.157667\n",
      "    Lat: 50.747582, Lon: 7.157470\n",
      "    Lat: 50.747620, Lon: 7.157314\n",
      "    Lat: 50.747672, Lon: 7.157152\n",
      "    Lat: 50.747732, Lon: 7.157026\n",
      "    Lat: 50.747882, Lon: 7.156751\n",
      "    Lat: 50.748061, Lon: 7.156421\n",
      "    Lat: 50.748213, Lon: 7.156179\n",
      "    Lat: 50.748263, Lon: 7.156042\n",
      "    Lat: 50.748429, Lon: 7.155750\n",
      "    Lat: 50.748831, Lon: 7.155019\n",
      "    Lat: 50.749089, Lon: 7.154576\n",
      "    Lat: 50.749207, Lon: 7.154365\n",
      "    Lat: 50.749501, Lon: 7.153915\n",
      "    Lat: 50.749608, Lon: 7.153750\n",
      "    Lat: 50.749800, Lon: 7.153468\n",
      "    Lat: 50.749847, Lon: 7.153398\n",
      "    Lat: 50.750132, Lon: 7.152963\n",
      "    Lat: 50.750224, Lon: 7.152842\n",
      "Name: n/a\n",
      "  Highway: service\n",
      "  Nodes:\n",
      "    Lat: 50.746079, Lon: 7.154944\n",
      "    Lat: 50.745963, Lon: 7.154580\n",
      "    Lat: 50.745662, Lon: 7.154815\n",
      "    Lat: 50.745788, Lon: 7.155202\n",
      "Name: Mutter-Barat-Straße\n",
      "  Highway: footway\n",
      "  Nodes:\n",
      "    Lat: 50.748061, Lon: 7.156421\n",
      "    Lat: 50.747989, Lon: 7.156302\n",
      "Name: Von-Ketteler-Straße\n",
      "  Highway: residential\n",
      "  Nodes:\n",
      "    Lat: 50.747335, Lon: 7.152963\n",
      "    Lat: 50.746992, Lon: 7.153544\n",
      "    Lat: 50.746939, Lon: 7.153634\n",
      "    Lat: 50.746733, Lon: 7.154001\n",
      "    Lat: 50.746657, Lon: 7.154135\n",
      "    Lat: 50.746585, Lon: 7.154273\n",
      "    Lat: 50.746562, Lon: 7.154380\n",
      "    Lat: 50.746560, Lon: 7.154508\n",
      "    Lat: 50.746581, Lon: 7.154655\n",
      "    Lat: 50.746868, Lon: 7.155638\n",
      "    Lat: 50.746905, Lon: 7.155786\n",
      "    Lat: 50.746912, Lon: 7.155892\n",
      "    Lat: 50.746902, Lon: 7.156003\n",
      "    Lat: 50.746874, Lon: 7.156307\n",
      "    Lat: 50.746809, Lon: 7.156921\n",
      "    Lat: 50.746751, Lon: 7.157490\n",
      "Name: Von-Ketteler-Straße\n",
      "  Highway: service\n",
      "  Nodes:\n",
      "    Lat: 50.746562, Lon: 7.154380\n",
      "    Lat: 50.746165, Lon: 7.154428\n",
      "    Lat: 50.745963, Lon: 7.154580\n",
      "    Lat: 50.745895, Lon: 7.154570\n",
      "    Lat: 50.745810, Lon: 7.154439\n",
      "Name: n/a\n",
      "  Highway: footway\n",
      "  Nodes:\n",
      "    Lat: 50.746733, Lon: 7.154001\n",
      "    Lat: 50.746488, Lon: 7.153662\n"
     ]
    }
   ],
   "source": [
    "for way in result.ways:\n",
    "    print(\"Name: %s\" % way.tags.get(\"name\", \"n/a\"))\n",
    "    print(\"  Highway: %s\" % way.tags.get(\"highway\", \"n/a\"))\n",
    "    print(\"  Nodes:\")\n",
    "    for node in way.nodes:\n",
    "        print(\"    Lat: %f, Lon: %f\" % (node.lat, node.lon))"
   ]
  },
  {
   "cell_type": "code",
   "execution_count": null,
   "metadata": {},
   "outputs": [],
   "source": []
  },
  {
   "cell_type": "markdown",
   "metadata": {},
   "source": [
    "[Download OSM data using python](https://janakiev.com/blog/openstreetmap-with-python-and-overpass-api/)"
   ]
  },
  {
   "cell_type": "code",
   "execution_count": null,
   "metadata": {},
   "outputs": [],
   "source": []
  }
 ],
 "metadata": {
  "kernelspec": {
   "display_name": "Python 3",
   "language": "python",
   "name": "python3"
  },
  "language_info": {
   "codemirror_mode": {
    "name": "ipython",
    "version": 3
   },
   "file_extension": ".py",
   "mimetype": "text/x-python",
   "name": "python",
   "nbconvert_exporter": "python",
   "pygments_lexer": "ipython3",
   "version": "3.6.7"
  }
 },
 "nbformat": 4,
 "nbformat_minor": 2
}
